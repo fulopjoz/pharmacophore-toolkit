{
 "cells": [
  {
   "cell_type": "markdown",
   "id": "5fcee3ab3731db6e",
   "metadata": {},
   "source": [
    "# Pharmacophore Tutorial\n",
    "\n",
    "The Pharmacophore-Toolkit is used to generate simple pharmacophore models. Final models are then rendered in PyMOL. The main steps in the Pharmacophore-Toolkit include molecules in 3D conformation, generating features, and outputting the results in .pml format. Examples of the .pml can be found [here](https://pymolwiki.org/index.php/Pml) or in this [blog post](https://www.blopig.com/blog/2017/01/using-pml-scripts-to-generate-pymol-images/).\n",
    "\n",
    "Pharmacophore models can be built using crystal structures, docking poses, or SMILES strings. Crystal structures and docking poses make the Pharmacophore-Toolkit more straightforward, as the molecules are already in a 3D conformation. However, using SMILES string would require the generation of 3D conformation and alignment. Examples can be seen on the [RDKit blog](https://greglandrum.github.io/rdkit-blog/posts/2023-02-24-using-feature-maps.html). This tutorial uses a variation of the blog to fit the Pharmacophore-Toolkit python API."
   ]
  },
  {
   "cell_type": "code",
   "id": "98cdf4394cfc0638",
   "metadata": {
    "ExecuteTime": {
     "end_time": "2025-07-17T09:04:30.624675Z",
     "start_time": "2025-07-17T09:04:29.609258Z"
    }
   },
   "source": [
    "from rdkit import Chem\n",
    "from rdkit.Chem import AllChem, rdMolAlign\n",
    "import datamol as dm\n",
    "from pharmacophore import Pharmacophore, Draw, View"
   ],
   "outputs": [],
   "execution_count": 1
  },
  {
   "cell_type": "markdown",
   "id": "92f10369d762b5f9",
   "metadata": {},
   "source": [
    "## Dataset\n",
    "\n",
    "This tutorial will use serotonin, psilocin, and mescaline as examples. All three binds to the Serotonin 5HT-2A receptor.\n",
    "\n",
    "In this example, the molecules will be given as a dictionary in a name:SMILES pair. Each pair is then extracted into a separate list containing the SMILES string and the molecule name. The molecules can be visualized for confirmation."
   ]
  },
  {
   "cell_type": "code",
   "id": "e2225d5d98c5e32b",
   "metadata": {
    "ExecuteTime": {
     "end_time": "2025-07-17T09:04:30.795145Z",
     "start_time": "2025-07-17T09:04:30.707475Z"
    }
   },
   "source": [
    "molecules = {\"serotonin\": \"C1=CC2=C(C=C1O)C(=CN2)CCN\",\n",
    "             \"psilocin\": \"CN(C)CCc1c[nH]c2cccc(O)c12\",\n",
    "             \"mescaline\": \"O(c1cc(cc(OC)c1OC)CCN)C\"}\n",
    "\n",
    "mol_smi = [x for x in molecules.values()]\n",
    "mol_name = [x for x in molecules.keys()]\n",
    "\n",
    "mols = [Chem.MolFromSmiles(x) for x in mol_smi]\n",
    "dm.viz.to_image(mols, mol_name)"
   ],
   "outputs": [
    {
     "data": {
      "text/plain": [
       "<IPython.core.display.SVG object>"
      ],
      "image/svg+xml": "<svg xmlns=\"http://www.w3.org/2000/svg\" xmlns:rdkit=\"http://www.rdkit.org/xml\" xmlns:xlink=\"http://www.w3.org/1999/xlink\" version=\"1.1\" baseProfile=\"full\" xml:space=\"preserve\" width=\"900px\" height=\"300px\" viewBox=\"0 0 900 300\">\n<!-- END OF HEADER -->\n<rect style=\"opacity:1.0;fill:#FFFFFF;stroke:none\" width=\"900.0\" height=\"300.0\" x=\"0.0\" y=\"0.0\"> </rect>\n<path class=\"bond-0 atom-0 atom-1\" d=\"M 258.2,134.9 L 236.6,168.3\" style=\"fill:none;fill-rule:evenodd;stroke:#000000;stroke-width:2.0px;stroke-linecap:butt;stroke-linejoin:miter;stroke-opacity:1\"/>\n<path class=\"bond-0 atom-0 atom-1\" d=\"M 251.3,134.6 L 233.4,162.2\" style=\"fill:none;fill-rule:evenodd;stroke:#000000;stroke-width:2.0px;stroke-linecap:butt;stroke-linejoin:miter;stroke-opacity:1\"/>\n<path class=\"bond-1 atom-1 atom-2\" d=\"M 236.6,168.3 L 196.8,166.4\" style=\"fill:none;fill-rule:evenodd;stroke:#000000;stroke-width:2.0px;stroke-linecap:butt;stroke-linejoin:miter;stroke-opacity:1\"/>\n<path class=\"bond-2 atom-2 atom-3\" d=\"M 196.8,166.4 L 178.7,131.0\" style=\"fill:none;fill-rule:evenodd;stroke:#000000;stroke-width:2.0px;stroke-linecap:butt;stroke-linejoin:miter;stroke-opacity:1\"/>\n<path class=\"bond-2 atom-2 atom-3\" d=\"M 200.6,160.6 L 185.5,131.3\" style=\"fill:none;fill-rule:evenodd;stroke:#000000;stroke-width:2.0px;stroke-linecap:butt;stroke-linejoin:miter;stroke-opacity:1\"/>\n<path class=\"bond-3 atom-3 atom-4\" d=\"M 178.7,131.0 L 200.2,97.5\" style=\"fill:none;fill-rule:evenodd;stroke:#000000;stroke-width:2.0px;stroke-linecap:butt;stroke-linejoin:miter;stroke-opacity:1\"/>\n<path class=\"bond-4 atom-4 atom-5\" d=\"M 200.2,97.5 L 240.0,99.5\" style=\"fill:none;fill-rule:evenodd;stroke:#000000;stroke-width:2.0px;stroke-linecap:butt;stroke-linejoin:miter;stroke-opacity:1\"/>\n<path class=\"bond-4 atom-4 atom-5\" d=\"M 203.4,103.7 L 236.2,105.3\" style=\"fill:none;fill-rule:evenodd;stroke:#000000;stroke-width:2.0px;stroke-linecap:butt;stroke-linejoin:miter;stroke-opacity:1\"/>\n<path class=\"bond-5 atom-5 atom-6\" d=\"M 240.0,99.5 L 248.4,86.4\" style=\"fill:none;fill-rule:evenodd;stroke:#000000;stroke-width:2.0px;stroke-linecap:butt;stroke-linejoin:miter;stroke-opacity:1\"/>\n<path class=\"bond-5 atom-5 atom-6\" d=\"M 248.4,86.4 L 256.9,73.2\" style=\"fill:none;fill-rule:evenodd;stroke:#FF0000;stroke-width:2.0px;stroke-linecap:butt;stroke-linejoin:miter;stroke-opacity:1\"/>\n<path class=\"bond-6 atom-3 atom-7\" d=\"M 178.7,131.0 L 139.4,137.4\" style=\"fill:none;fill-rule:evenodd;stroke:#000000;stroke-width:2.0px;stroke-linecap:butt;stroke-linejoin:miter;stroke-opacity:1\"/>\n<path class=\"bond-7 atom-7 atom-8\" d=\"M 139.4,137.4 L 133.3,176.7\" style=\"fill:none;fill-rule:evenodd;stroke:#000000;stroke-width:2.0px;stroke-linecap:butt;stroke-linejoin:miter;stroke-opacity:1\"/>\n<path class=\"bond-7 atom-7 atom-8\" d=\"M 144.6,142.6 L 139.8,173.3\" style=\"fill:none;fill-rule:evenodd;stroke:#000000;stroke-width:2.0px;stroke-linecap:butt;stroke-linejoin:miter;stroke-opacity:1\"/>\n<path class=\"bond-8 atom-8 atom-9\" d=\"M 133.3,176.7 L 148.2,184.2\" style=\"fill:none;fill-rule:evenodd;stroke:#000000;stroke-width:2.0px;stroke-linecap:butt;stroke-linejoin:miter;stroke-opacity:1\"/>\n<path class=\"bond-8 atom-8 atom-9\" d=\"M 148.2,184.2 L 163.2,191.8\" style=\"fill:none;fill-rule:evenodd;stroke:#0000FF;stroke-width:2.0px;stroke-linecap:butt;stroke-linejoin:miter;stroke-opacity:1\"/>\n<path class=\"bond-9 atom-7 atom-10\" d=\"M 139.4,137.4 L 111.1,109.3\" style=\"fill:none;fill-rule:evenodd;stroke:#000000;stroke-width:2.0px;stroke-linecap:butt;stroke-linejoin:miter;stroke-opacity:1\"/>\n<path class=\"bond-10 atom-10 atom-11\" d=\"M 111.1,109.3 L 72.7,119.7\" style=\"fill:none;fill-rule:evenodd;stroke:#000000;stroke-width:2.0px;stroke-linecap:butt;stroke-linejoin:miter;stroke-opacity:1\"/>\n<path class=\"bond-11 atom-11 atom-12\" d=\"M 72.7,119.7 L 61.4,108.5\" style=\"fill:none;fill-rule:evenodd;stroke:#000000;stroke-width:2.0px;stroke-linecap:butt;stroke-linejoin:miter;stroke-opacity:1\"/>\n<path class=\"bond-11 atom-11 atom-12\" d=\"M 61.4,108.5 L 50.1,97.2\" style=\"fill:none;fill-rule:evenodd;stroke:#0000FF;stroke-width:2.0px;stroke-linecap:butt;stroke-linejoin:miter;stroke-opacity:1\"/>\n<path class=\"bond-12 atom-5 atom-0\" d=\"M 240.0,99.5 L 258.2,134.9\" style=\"fill:none;fill-rule:evenodd;stroke:#000000;stroke-width:2.0px;stroke-linecap:butt;stroke-linejoin:miter;stroke-opacity:1\"/>\n<path class=\"bond-13 atom-9 atom-2\" d=\"M 174.4,189.0 L 185.6,177.7\" style=\"fill:none;fill-rule:evenodd;stroke:#0000FF;stroke-width:2.0px;stroke-linecap:butt;stroke-linejoin:miter;stroke-opacity:1\"/>\n<path class=\"bond-13 atom-9 atom-2\" d=\"M 185.6,177.7 L 196.8,166.4\" style=\"fill:none;fill-rule:evenodd;stroke:#000000;stroke-width:2.0px;stroke-linecap:butt;stroke-linejoin:miter;stroke-opacity:1\"/>\n<path d=\"M 257.1,136.6 L 258.2,134.9 L 257.3,133.1\" style=\"fill:none;stroke:#000000;stroke-width:2.0px;stroke-linecap:butt;stroke-linejoin:miter;stroke-opacity:1;\"/>\n<path d=\"M 237.7,166.7 L 236.6,168.3 L 234.6,168.2\" style=\"fill:none;stroke:#000000;stroke-width:2.0px;stroke-linecap:butt;stroke-linejoin:miter;stroke-opacity:1;\"/>\n<path d=\"M 199.1,99.2 L 200.2,97.5 L 202.2,97.6\" style=\"fill:none;stroke:#000000;stroke-width:2.0px;stroke-linecap:butt;stroke-linejoin:miter;stroke-opacity:1;\"/>\n<path d=\"M 133.6,174.7 L 133.3,176.7 L 134.0,177.1\" style=\"fill:none;stroke:#000000;stroke-width:2.0px;stroke-linecap:butt;stroke-linejoin:miter;stroke-opacity:1;\"/>\n<path d=\"M 112.5,110.7 L 111.1,109.3 L 109.2,109.8\" style=\"fill:none;stroke:#000000;stroke-width:2.0px;stroke-linecap:butt;stroke-linejoin:miter;stroke-opacity:1;\"/>\n<path d=\"M 74.6,119.2 L 72.7,119.7 L 72.1,119.2\" style=\"fill:none;stroke:#000000;stroke-width:2.0px;stroke-linecap:butt;stroke-linejoin:miter;stroke-opacity:1;\"/>\n<path class=\"atom-6\" d=\"M 256.4 66.1 Q 256.4 63.4, 257.7 61.8 Q 259.0 60.3, 261.5 60.3 Q 264.0 60.3, 265.4 61.8 Q 266.7 63.4, 266.7 66.1 Q 266.7 68.8, 265.4 70.4 Q 264.0 71.9, 261.5 71.9 Q 259.1 71.9, 257.7 70.4 Q 256.4 68.8, 256.4 66.1 M 261.5 70.6 Q 263.3 70.6, 264.2 69.5 Q 265.1 68.3, 265.1 66.1 Q 265.1 63.9, 264.2 62.7 Q 263.3 61.6, 261.5 61.6 Q 259.8 61.6, 258.9 62.7 Q 258.0 63.8, 258.0 66.1 Q 258.0 68.3, 258.9 69.5 Q 259.8 70.6, 261.5 70.6 \" fill=\"#FF0000\"/>\n<path class=\"atom-6\" d=\"M 268.5 60.5 L 270.0 60.5 L 270.0 65.3 L 275.8 65.3 L 275.8 60.5 L 277.3 60.5 L 277.3 71.7 L 275.8 71.7 L 275.8 66.5 L 270.0 66.5 L 270.0 71.7 L 268.5 71.7 L 268.5 60.5 \" fill=\"#FF0000\"/>\n<path class=\"atom-9\" d=\"M 166.3 189.0 L 170.0 195.0 Q 170.4 195.6, 170.9 196.6 Q 171.5 197.7, 171.6 197.8 L 171.6 189.0 L 173.1 189.0 L 173.1 200.3 L 171.5 200.3 L 167.6 193.7 Q 167.1 193.0, 166.6 192.1 Q 166.1 191.2, 166.0 191.0 L 166.0 200.3 L 164.5 200.3 L 164.5 189.0 L 166.3 189.0 \" fill=\"#0000FF\"/>\n<path class=\"atom-9\" d=\"M 164.4 201.4 L 165.9 201.4 L 165.9 206.2 L 171.7 206.2 L 171.7 201.4 L 173.2 201.4 L 173.2 212.7 L 171.7 212.7 L 171.7 207.5 L 165.9 207.5 L 165.9 212.7 L 164.4 212.7 L 164.4 201.4 \" fill=\"#0000FF\"/>\n<path class=\"atom-12\" d=\"M 22.7 86.0 L 24.2 86.0 L 24.2 90.8 L 30.0 90.8 L 30.0 86.0 L 31.5 86.0 L 31.5 97.3 L 30.0 97.3 L 30.0 92.1 L 24.2 92.1 L 24.2 97.3 L 22.7 97.3 L 22.7 86.0 \" fill=\"#0000FF\"/>\n<path class=\"atom-12\" d=\"M 33.7 96.9 Q 34.0 96.2, 34.7 95.8 Q 35.3 95.4, 36.2 95.4 Q 37.3 95.4, 38.0 96.0 Q 38.6 96.7, 38.6 97.7 Q 38.6 98.8, 37.8 99.9 Q 37.0 100.9, 35.3 102.1 L 38.7 102.1 L 38.7 103.0 L 33.7 103.0 L 33.7 102.3 Q 35.1 101.3, 35.9 100.5 Q 36.8 99.8, 37.2 99.1 Q 37.6 98.5, 37.6 97.8 Q 37.6 97.1, 37.2 96.7 Q 36.8 96.3, 36.2 96.3 Q 35.6 96.3, 35.2 96.5 Q 34.8 96.8, 34.5 97.3 L 33.7 96.9 \" fill=\"#0000FF\"/>\n<path class=\"atom-12\" d=\"M 42.0 86.0 L 45.7 92.0 Q 46.0 92.6, 46.6 93.7 Q 47.2 94.7, 47.2 94.8 L 47.2 86.0 L 48.7 86.0 L 48.7 97.3 L 47.2 97.3 L 43.2 90.8 Q 42.8 90.0, 42.3 89.2 Q 41.8 88.3, 41.7 88.0 L 41.7 97.3 L 40.2 97.3 L 40.2 86.0 L 42.0 86.0 \" fill=\"#0000FF\"/>\n<path class=\"legend\" d=\"M 117.7 283.2 Q 118.4 283.5, 118.9 283.6 Q 119.5 283.8, 120.0 283.8 Q 120.8 283.8, 121.2 283.4 Q 121.6 283.1, 121.6 282.6 Q 121.6 282.2, 121.3 282.0 Q 121.1 281.7, 120.9 281.6 Q 120.6 281.5, 119.9 281.3 Q 119.8 281.2, 119.0 281.0 Q 118.3 280.7, 117.9 280.2 Q 117.5 279.6, 117.5 278.8 Q 117.5 277.8, 118.3 277.2 Q 119.1 276.5, 120.5 276.5 Q 121.2 276.5, 121.7 276.6 Q 122.3 276.8, 122.9 277.0 L 122.5 278.2 Q 122.0 278.0, 121.5 277.9 Q 121.0 277.7, 120.5 277.7 Q 119.8 277.7, 119.4 278.0 Q 119.0 278.3, 119.0 278.8 Q 119.0 279.3, 119.3 279.5 Q 119.6 279.7, 120.3 279.9 Q 120.5 280.0, 120.6 280.0 L 121.0 280.2 Q 121.7 280.4, 122.1 280.6 Q 122.5 280.9, 122.8 281.3 Q 123.1 281.8, 123.1 282.5 Q 123.1 283.7, 122.2 284.4 Q 121.4 285.0, 120.1 285.0 Q 119.3 285.0, 118.6 284.8 Q 117.9 284.7, 117.3 284.4 L 117.7 283.2 \" fill=\"#000000\"/>\n<path class=\"legend\" d=\"M 124.5 280.7 Q 124.5 278.7, 125.5 277.6 Q 126.5 276.5, 128.4 276.5 Q 130.2 276.5, 131.0 277.6 Q 131.8 278.6, 131.8 280.7 L 131.8 280.9 L 126.1 280.9 Q 126.1 282.3, 126.7 283.1 Q 127.3 283.8, 128.5 283.8 Q 129.2 283.8, 129.7 283.7 Q 130.3 283.5, 131.1 283.2 L 131.5 284.2 Q 130.7 284.6, 129.9 284.8 Q 129.2 285.0, 128.4 285.0 Q 126.6 285.0, 125.6 283.9 Q 124.5 282.7, 124.5 280.7 M 128.4 277.7 Q 127.4 277.7, 126.9 278.2 Q 126.3 278.8, 126.1 279.8 L 130.2 279.8 Q 130.1 278.7, 129.7 278.2 Q 129.2 277.7, 128.4 277.7 \" fill=\"#000000\"/>\n<path class=\"legend\" d=\"M 134.2 276.6 L 134.4 277.8 Q 135.3 276.5, 136.7 276.5 Q 137.1 276.5, 137.7 276.6 L 137.5 278.0 Q 136.8 277.8, 136.4 277.8 Q 135.8 277.8, 135.3 278.1 Q 134.9 278.4, 134.5 279.0 L 134.5 284.9 L 133.0 284.9 L 133.0 276.6 L 134.2 276.6 \" fill=\"#000000\"/>\n<path class=\"legend\" d=\"M 138.6 280.7 Q 138.6 278.7, 139.6 277.6 Q 140.6 276.5, 142.5 276.5 Q 144.4 276.5, 145.4 277.6 Q 146.4 278.7, 146.4 280.7 Q 146.4 282.7, 145.4 283.9 Q 144.4 285.0, 142.5 285.0 Q 140.6 285.0, 139.6 283.9 Q 138.6 282.7, 138.6 280.7 M 140.1 280.7 Q 140.1 282.2, 140.7 283.0 Q 141.4 283.8, 142.5 283.8 Q 143.6 283.8, 144.2 283.0 Q 144.9 282.2, 144.9 280.7 Q 144.9 279.2, 144.2 278.5 Q 143.6 277.7, 142.5 277.7 Q 141.4 277.7, 140.7 278.5 Q 140.1 279.2, 140.1 280.7 \" fill=\"#000000\"/>\n<path class=\"legend\" d=\"M 147.7 277.8 L 147.7 276.6 L 149.3 276.6 L 149.6 274.2 L 150.7 274.2 L 150.7 276.6 L 153.2 276.6 L 153.2 277.8 L 150.7 277.8 L 150.7 282.3 Q 150.7 283.8, 151.9 283.8 Q 152.4 283.8, 153.1 283.5 L 153.3 284.6 Q 152.4 285.0, 151.6 285.0 Q 150.5 285.0, 149.8 284.3 Q 149.2 283.7, 149.2 282.4 L 149.2 277.8 L 147.7 277.8 \" fill=\"#000000\"/>\n<path class=\"legend\" d=\"M 154.3 280.7 Q 154.3 278.7, 155.3 277.6 Q 156.4 276.5, 158.2 276.5 Q 160.1 276.5, 161.1 277.6 Q 162.1 278.7, 162.1 280.7 Q 162.1 282.7, 161.1 283.9 Q 160.1 285.0, 158.2 285.0 Q 156.4 285.0, 155.3 283.9 Q 154.3 282.7, 154.3 280.7 M 155.9 280.7 Q 155.9 282.2, 156.5 283.0 Q 157.1 283.8, 158.2 283.8 Q 159.4 283.8, 160.0 283.0 Q 160.6 282.2, 160.6 280.7 Q 160.6 279.2, 160.0 278.5 Q 159.4 277.7, 158.2 277.7 Q 157.1 277.7, 156.5 278.5 Q 155.9 279.2, 155.9 280.7 \" fill=\"#000000\"/>\n<path class=\"legend\" d=\"M 167.8 276.5 Q 169.1 276.5, 169.8 277.2 Q 170.5 278.0, 170.5 279.4 L 170.5 284.9 L 169.0 284.9 L 169.0 279.5 Q 169.0 278.6, 168.6 278.1 Q 168.2 277.7, 167.4 277.7 Q 166.6 277.7, 166.0 278.0 Q 165.4 278.4, 165.0 279.0 L 165.0 284.9 L 163.5 284.9 L 163.5 276.6 L 164.7 276.6 L 164.9 277.8 Q 166.0 276.5, 167.8 276.5 \" fill=\"#000000\"/>\n<path class=\"legend\" d=\"M 172.3 273.5 L 173.8 273.5 L 173.8 274.9 L 172.3 274.9 L 172.3 273.5 M 172.3 276.6 L 173.8 276.6 L 173.8 284.9 L 172.3 284.9 L 172.3 276.6 \" fill=\"#000000\"/>\n<path class=\"legend\" d=\"M 180.0 276.5 Q 181.4 276.5, 182.0 277.2 Q 182.7 278.0, 182.7 279.4 L 182.7 284.9 L 181.2 284.9 L 181.2 279.5 Q 181.2 278.6, 180.9 278.1 Q 180.5 277.7, 179.7 277.7 Q 178.9 277.7, 178.3 278.0 Q 177.7 278.4, 177.3 279.0 L 177.3 284.9 L 175.8 284.9 L 175.8 276.6 L 177.0 276.6 L 177.2 277.8 Q 178.3 276.5, 180.0 276.5 \" fill=\"#000000\"/>\n<path class=\"bond-0 atom-0 atom-1\" d=\"M 323.8,153.0 L 338.3,144.7\" style=\"fill:none;fill-rule:evenodd;stroke:#000000;stroke-width:2.0px;stroke-linecap:butt;stroke-linejoin:miter;stroke-opacity:1\"/>\n<path class=\"bond-0 atom-0 atom-1\" d=\"M 338.3,144.7 L 352.9,136.5\" style=\"fill:none;fill-rule:evenodd;stroke:#0000FF;stroke-width:2.0px;stroke-linecap:butt;stroke-linejoin:miter;stroke-opacity:1\"/>\n<path class=\"bond-1 atom-1 atom-2\" d=\"M 358.5,126.4 L 358.6,110.0\" style=\"fill:none;fill-rule:evenodd;stroke:#0000FF;stroke-width:2.0px;stroke-linecap:butt;stroke-linejoin:miter;stroke-opacity:1\"/>\n<path class=\"bond-1 atom-1 atom-2\" d=\"M 358.6,110.0 L 358.8,93.6\" style=\"fill:none;fill-rule:evenodd;stroke:#000000;stroke-width:2.0px;stroke-linecap:butt;stroke-linejoin:miter;stroke-opacity:1\"/>\n<path class=\"bond-2 atom-1 atom-3\" d=\"M 364.0,136.7 L 378.4,145.1\" style=\"fill:none;fill-rule:evenodd;stroke:#0000FF;stroke-width:2.0px;stroke-linecap:butt;stroke-linejoin:miter;stroke-opacity:1\"/>\n<path class=\"bond-2 atom-1 atom-3\" d=\"M 378.4,145.1 L 392.8,153.6\" style=\"fill:none;fill-rule:evenodd;stroke:#000000;stroke-width:2.0px;stroke-linecap:butt;stroke-linejoin:miter;stroke-opacity:1\"/>\n<path class=\"bond-3 atom-3 atom-4\" d=\"M 392.8,153.6 L 427.4,133.9\" style=\"fill:none;fill-rule:evenodd;stroke:#000000;stroke-width:2.0px;stroke-linecap:butt;stroke-linejoin:miter;stroke-opacity:1\"/>\n<path class=\"bond-4 atom-4 atom-5\" d=\"M 427.4,133.9 L 461.7,154.1\" style=\"fill:none;fill-rule:evenodd;stroke:#000000;stroke-width:2.0px;stroke-linecap:butt;stroke-linejoin:miter;stroke-opacity:1\"/>\n<path class=\"bond-5 atom-5 atom-6\" d=\"M 461.7,154.1 L 465.5,193.8\" style=\"fill:none;fill-rule:evenodd;stroke:#000000;stroke-width:2.0px;stroke-linecap:butt;stroke-linejoin:miter;stroke-opacity:1\"/>\n<path class=\"bond-5 atom-5 atom-6\" d=\"M 468.0,157.9 L 471.0,188.9\" style=\"fill:none;fill-rule:evenodd;stroke:#000000;stroke-width:2.0px;stroke-linecap:butt;stroke-linejoin:miter;stroke-opacity:1\"/>\n<path class=\"bond-6 atom-6 atom-7\" d=\"M 465.5,193.8 L 482.1,197.4\" style=\"fill:none;fill-rule:evenodd;stroke:#000000;stroke-width:2.0px;stroke-linecap:butt;stroke-linejoin:miter;stroke-opacity:1\"/>\n<path class=\"bond-6 atom-6 atom-7\" d=\"M 482.1,197.4 L 498.8,201.1\" style=\"fill:none;fill-rule:evenodd;stroke:#0000FF;stroke-width:2.0px;stroke-linecap:butt;stroke-linejoin:miter;stroke-opacity:1\"/>\n<path class=\"bond-7 atom-7 atom-8\" d=\"M 508.5,195.4 L 516.5,181.7\" style=\"fill:none;fill-rule:evenodd;stroke:#0000FF;stroke-width:2.0px;stroke-linecap:butt;stroke-linejoin:miter;stroke-opacity:1\"/>\n<path class=\"bond-7 atom-7 atom-8\" d=\"M 516.5,181.7 L 524.6,168.1\" style=\"fill:none;fill-rule:evenodd;stroke:#000000;stroke-width:2.0px;stroke-linecap:butt;stroke-linejoin:miter;stroke-opacity:1\"/>\n<path class=\"bond-8 atom-8 atom-9\" d=\"M 524.6,168.1 L 563.6,160.1\" style=\"fill:none;fill-rule:evenodd;stroke:#000000;stroke-width:2.0px;stroke-linecap:butt;stroke-linejoin:miter;stroke-opacity:1\"/>\n<path class=\"bond-8 atom-8 atom-9\" d=\"M 526.8,161.5 L 559.0,155.0\" style=\"fill:none;fill-rule:evenodd;stroke:#000000;stroke-width:2.0px;stroke-linecap:butt;stroke-linejoin:miter;stroke-opacity:1\"/>\n<path class=\"bond-9 atom-9 atom-10\" d=\"M 563.6,160.1 L 576.2,122.4\" style=\"fill:none;fill-rule:evenodd;stroke:#000000;stroke-width:2.0px;stroke-linecap:butt;stroke-linejoin:miter;stroke-opacity:1\"/>\n<path class=\"bond-10 atom-10 atom-11\" d=\"M 576.2,122.4 L 549.8,92.6\" style=\"fill:none;fill-rule:evenodd;stroke:#000000;stroke-width:2.0px;stroke-linecap:butt;stroke-linejoin:miter;stroke-opacity:1\"/>\n<path class=\"bond-10 atom-10 atom-11\" d=\"M 569.4,123.7 L 547.6,99.1\" style=\"fill:none;fill-rule:evenodd;stroke:#000000;stroke-width:2.0px;stroke-linecap:butt;stroke-linejoin:miter;stroke-opacity:1\"/>\n<path class=\"bond-11 atom-11 atom-12\" d=\"M 549.8,92.6 L 510.8,100.5\" style=\"fill:none;fill-rule:evenodd;stroke:#000000;stroke-width:2.0px;stroke-linecap:butt;stroke-linejoin:miter;stroke-opacity:1\"/>\n<path class=\"bond-12 atom-12 atom-13\" d=\"M 510.8,100.5 L 500.8,89.2\" style=\"fill:none;fill-rule:evenodd;stroke:#000000;stroke-width:2.0px;stroke-linecap:butt;stroke-linejoin:miter;stroke-opacity:1\"/>\n<path class=\"bond-12 atom-12 atom-13\" d=\"M 500.8,89.2 L 490.8,77.9\" style=\"fill:none;fill-rule:evenodd;stroke:#FF0000;stroke-width:2.0px;stroke-linecap:butt;stroke-linejoin:miter;stroke-opacity:1\"/>\n<path class=\"bond-13 atom-12 atom-14\" d=\"M 510.8,100.5 L 498.2,138.3\" style=\"fill:none;fill-rule:evenodd;stroke:#000000;stroke-width:2.0px;stroke-linecap:butt;stroke-linejoin:miter;stroke-opacity:1\"/>\n<path class=\"bond-13 atom-12 atom-14\" d=\"M 515.4,105.7 L 504.9,136.9\" style=\"fill:none;fill-rule:evenodd;stroke:#000000;stroke-width:2.0px;stroke-linecap:butt;stroke-linejoin:miter;stroke-opacity:1\"/>\n<path class=\"bond-14 atom-14 atom-5\" d=\"M 498.2,138.3 L 461.7,154.1\" style=\"fill:none;fill-rule:evenodd;stroke:#000000;stroke-width:2.0px;stroke-linecap:butt;stroke-linejoin:miter;stroke-opacity:1\"/>\n<path class=\"bond-15 atom-14 atom-8\" d=\"M 498.2,138.3 L 524.6,168.1\" style=\"fill:none;fill-rule:evenodd;stroke:#000000;stroke-width:2.0px;stroke-linecap:butt;stroke-linejoin:miter;stroke-opacity:1\"/>\n<path d=\"M 392.0,153.1 L 392.8,153.6 L 394.5,152.6\" style=\"fill:none;stroke:#000000;stroke-width:2.0px;stroke-linecap:butt;stroke-linejoin:miter;stroke-opacity:1;\"/>\n<path d=\"M 425.7,134.9 L 427.4,133.9 L 429.1,135.0\" style=\"fill:none;stroke:#000000;stroke-width:2.0px;stroke-linecap:butt;stroke-linejoin:miter;stroke-opacity:1;\"/>\n<path d=\"M 465.3,191.8 L 465.5,193.8 L 466.3,193.9\" style=\"fill:none;stroke:#000000;stroke-width:2.0px;stroke-linecap:butt;stroke-linejoin:miter;stroke-opacity:1;\"/>\n<path d=\"M 561.6,160.5 L 563.6,160.1 L 564.2,158.2\" style=\"fill:none;stroke:#000000;stroke-width:2.0px;stroke-linecap:butt;stroke-linejoin:miter;stroke-opacity:1;\"/>\n<path d=\"M 575.6,124.3 L 576.2,122.4 L 574.9,120.9\" style=\"fill:none;stroke:#000000;stroke-width:2.0px;stroke-linecap:butt;stroke-linejoin:miter;stroke-opacity:1;\"/>\n<path d=\"M 551.1,94.1 L 549.8,92.6 L 547.9,93.0\" style=\"fill:none;stroke:#000000;stroke-width:2.0px;stroke-linecap:butt;stroke-linejoin:miter;stroke-opacity:1;\"/>\n<path class=\"atom-1\" d=\"M 356.0 127.7 L 359.7 133.7 Q 360.0 134.3, 360.6 135.4 Q 361.2 136.4, 361.2 136.5 L 361.2 127.7 L 362.7 127.7 L 362.7 139.0 L 361.2 139.0 L 357.2 132.5 Q 356.8 131.7, 356.3 130.8 Q 355.8 130.0, 355.6 129.7 L 355.6 139.0 L 354.2 139.0 L 354.2 127.7 L 356.0 127.7 \" fill=\"#0000FF\"/>\n<path class=\"atom-7\" d=\"M 501.9 196.7 L 505.6 202.7 Q 505.9 203.3, 506.5 204.3 Q 507.1 205.4, 507.2 205.5 L 507.2 196.7 L 508.6 196.7 L 508.6 208.0 L 507.1 208.0 L 503.1 201.5 Q 502.7 200.7, 502.2 199.8 Q 501.7 199.0, 501.6 198.7 L 501.6 208.0 L 500.1 208.0 L 500.1 196.7 L 501.9 196.7 \" fill=\"#0000FF\"/>\n<path class=\"atom-7\" d=\"M 510.8 196.7 L 512.4 196.7 L 512.4 201.5 L 518.1 201.5 L 518.1 196.7 L 519.7 196.7 L 519.7 208.0 L 518.1 208.0 L 518.1 202.8 L 512.4 202.8 L 512.4 208.0 L 510.8 208.0 L 510.8 196.7 \" fill=\"#0000FF\"/>\n<path class=\"atom-13\" d=\"M 468.1 65.1 L 469.6 65.1 L 469.6 69.9 L 475.4 69.9 L 475.4 65.1 L 476.9 65.1 L 476.9 76.4 L 475.4 76.4 L 475.4 71.2 L 469.6 71.2 L 469.6 76.4 L 468.1 76.4 L 468.1 65.1 \" fill=\"#FF0000\"/>\n<path class=\"atom-13\" d=\"M 479.2 70.7 Q 479.2 68.0, 480.6 66.5 Q 481.9 65.0, 484.4 65.0 Q 486.9 65.0, 488.3 66.5 Q 489.6 68.0, 489.6 70.7 Q 489.6 73.5, 488.2 75.0 Q 486.9 76.6, 484.4 76.6 Q 481.9 76.6, 480.6 75.0 Q 479.2 73.5, 479.2 70.7 M 484.4 75.3 Q 486.1 75.3, 487.1 74.2 Q 488.0 73.0, 488.0 70.7 Q 488.0 68.5, 487.1 67.4 Q 486.1 66.3, 484.4 66.3 Q 482.7 66.3, 481.8 67.4 Q 480.8 68.5, 480.8 70.7 Q 480.8 73.0, 481.8 74.2 Q 482.7 75.3, 484.4 75.3 \" fill=\"#FF0000\"/>\n<path class=\"legend\" d=\"M 429.1 272.7 Q 430.8 272.7, 431.7 273.8 Q 432.7 274.8, 432.7 276.8 Q 432.7 278.9, 431.5 280.1 Q 430.4 281.2, 428.5 281.2 Q 427.5 281.2, 426.7 281.0 L 426.7 285.0 L 425.2 285.0 L 425.2 272.9 L 426.5 272.9 L 426.7 273.8 Q 427.1 273.3, 427.7 273.0 Q 428.3 272.7, 429.1 272.7 M 428.4 280.0 Q 429.7 280.0, 430.4 279.2 Q 431.1 278.3, 431.1 276.8 Q 431.1 275.4, 430.6 274.7 Q 430.0 273.9, 429.0 273.9 Q 428.2 273.9, 427.6 274.3 Q 427.0 274.8, 426.7 275.5 L 426.7 279.8 Q 427.6 280.0, 428.4 280.0 \" fill=\"#000000\"/>\n<path class=\"legend\" d=\"M 434.4 279.4 Q 435.1 279.7, 435.6 279.8 Q 436.1 280.0, 436.7 280.0 Q 437.4 280.0, 437.8 279.7 Q 438.2 279.4, 438.2 278.8 Q 438.2 278.4, 438.0 278.2 Q 437.8 277.9, 437.5 277.8 Q 437.3 277.7, 436.5 277.5 Q 436.4 277.4, 435.7 277.2 Q 434.9 276.9, 434.5 276.4 Q 434.2 275.8, 434.2 275.0 Q 434.2 274.1, 434.9 273.4 Q 435.7 272.7, 437.2 272.7 Q 437.8 272.7, 438.4 272.9 Q 438.9 273.0, 439.5 273.2 L 439.1 274.4 Q 438.6 274.2, 438.1 274.1 Q 437.7 274.0, 437.2 274.0 Q 436.4 274.0, 436.1 274.3 Q 435.7 274.6, 435.7 275.0 Q 435.7 275.5, 436.0 275.7 Q 436.3 275.9, 436.9 276.2 Q 437.1 276.2, 437.3 276.3 L 437.7 276.4 Q 438.3 276.6, 438.7 276.9 Q 439.1 277.1, 439.4 277.5 Q 439.7 278.0, 439.7 278.7 Q 439.7 279.9, 438.9 280.6 Q 438.0 281.2, 436.7 281.2 Q 435.9 281.2, 435.2 281.1 Q 434.6 280.9, 433.9 280.6 L 434.4 279.4 \" fill=\"#000000\"/>\n<path class=\"legend\" d=\"M 441.1 269.8 L 442.5 269.8 L 442.5 271.1 L 441.1 271.1 L 441.1 269.8 M 441.1 272.9 L 442.5 272.9 L 442.5 281.1 L 441.1 281.1 L 441.1 272.9 \" fill=\"#000000\"/>\n<path class=\"legend\" d=\"M 444.4 268.9 L 445.9 268.9 L 445.9 281.1 L 444.4 281.1 L 444.4 268.9 \" fill=\"#000000\"/>\n<path class=\"legend\" d=\"M 447.7 277.0 Q 447.7 275.0, 448.7 273.8 Q 449.8 272.7, 451.6 272.7 Q 453.5 272.7, 454.5 273.8 Q 455.5 275.0, 455.5 277.0 Q 455.5 279.0, 454.5 280.1 Q 453.5 281.2, 451.6 281.2 Q 449.8 281.2, 448.7 280.1 Q 447.7 279.0, 447.7 277.0 M 449.3 277.0 Q 449.3 278.5, 449.9 279.2 Q 450.5 280.0, 451.6 280.0 Q 452.8 280.0, 453.4 279.2 Q 454.0 278.5, 454.0 277.0 Q 454.0 275.4, 453.4 274.7 Q 452.8 273.9, 451.6 273.9 Q 450.5 273.9, 449.9 274.7 Q 449.3 275.4, 449.3 277.0 \" fill=\"#000000\"/>\n<path class=\"legend\" d=\"M 456.8 277.0 Q 456.8 275.0, 457.8 273.8 Q 458.8 272.7, 460.7 272.7 Q 462.6 272.7, 463.6 274.1 L 462.5 274.8 Q 462.2 274.4, 461.7 274.1 Q 461.3 273.9, 460.7 273.9 Q 459.6 273.9, 458.9 274.7 Q 458.3 275.4, 458.3 277.0 Q 458.3 278.5, 458.9 279.3 Q 459.6 280.0, 460.8 280.0 Q 461.5 280.0, 461.9 279.9 Q 462.4 279.7, 463.0 279.5 L 463.4 280.5 Q 462.2 281.2, 460.7 281.2 Q 458.8 281.2, 457.8 280.1 Q 456.8 278.9, 456.8 277.0 \" fill=\"#000000\"/>\n<path class=\"legend\" d=\"M 464.4 269.8 L 465.9 269.8 L 465.9 271.1 L 464.4 271.1 L 464.4 269.8 M 464.4 272.9 L 465.9 272.9 L 465.9 281.1 L 464.4 281.1 L 464.4 272.9 \" fill=\"#000000\"/>\n<path class=\"legend\" d=\"M 472.1 272.7 Q 473.4 272.7, 474.1 273.5 Q 474.8 274.2, 474.8 275.6 L 474.8 281.1 L 473.3 281.1 L 473.3 275.8 Q 473.3 274.8, 472.9 274.3 Q 472.5 273.9, 471.7 273.9 Q 470.9 273.9, 470.3 274.2 Q 469.7 274.6, 469.3 275.2 L 469.3 281.1 L 467.8 281.1 L 467.8 272.9 L 469.0 272.9 L 469.2 274.0 Q 470.3 272.7, 472.1 272.7 \" fill=\"#000000\"/>\n<path class=\"bond-0 atom-0 atom-1\" d=\"M 828.3,182.2 L 817.9,171.1\" style=\"fill:none;fill-rule:evenodd;stroke:#FF0000;stroke-width:2.0px;stroke-linecap:butt;stroke-linejoin:miter;stroke-opacity:1\"/>\n<path class=\"bond-0 atom-0 atom-1\" d=\"M 817.9,171.1 L 807.5,160.1\" style=\"fill:none;fill-rule:evenodd;stroke:#000000;stroke-width:2.0px;stroke-linecap:butt;stroke-linejoin:miter;stroke-opacity:1\"/>\n<path class=\"bond-1 atom-1 atom-2\" d=\"M 807.5,160.1 L 768.7,169.2\" style=\"fill:none;fill-rule:evenodd;stroke:#000000;stroke-width:2.0px;stroke-linecap:butt;stroke-linejoin:miter;stroke-opacity:1\"/>\n<path class=\"bond-1 atom-1 atom-2\" d=\"M 802.8,155.1 L 770.7,162.6\" style=\"fill:none;fill-rule:evenodd;stroke:#000000;stroke-width:2.0px;stroke-linecap:butt;stroke-linejoin:miter;stroke-opacity:1\"/>\n<path class=\"bond-2 atom-2 atom-3\" d=\"M 768.7,169.2 L 741.5,140.2\" style=\"fill:none;fill-rule:evenodd;stroke:#000000;stroke-width:2.0px;stroke-linecap:butt;stroke-linejoin:miter;stroke-opacity:1\"/>\n<path class=\"bond-3 atom-3 atom-4\" d=\"M 741.5,140.2 L 753.0,102.1\" style=\"fill:none;fill-rule:evenodd;stroke:#000000;stroke-width:2.0px;stroke-linecap:butt;stroke-linejoin:miter;stroke-opacity:1\"/>\n<path class=\"bond-3 atom-3 atom-4\" d=\"M 748.2,138.6 L 757.7,107.1\" style=\"fill:none;fill-rule:evenodd;stroke:#000000;stroke-width:2.0px;stroke-linecap:butt;stroke-linejoin:miter;stroke-opacity:1\"/>\n<path class=\"bond-4 atom-4 atom-5\" d=\"M 753.0,102.1 L 791.8,93.0\" style=\"fill:none;fill-rule:evenodd;stroke:#000000;stroke-width:2.0px;stroke-linecap:butt;stroke-linejoin:miter;stroke-opacity:1\"/>\n<path class=\"bond-5 atom-5 atom-6\" d=\"M 791.8,93.0 L 796.4,77.5\" style=\"fill:none;fill-rule:evenodd;stroke:#000000;stroke-width:2.0px;stroke-linecap:butt;stroke-linejoin:miter;stroke-opacity:1\"/>\n<path class=\"bond-5 atom-5 atom-6\" d=\"M 796.4,77.5 L 801.1,62.1\" style=\"fill:none;fill-rule:evenodd;stroke:#FF0000;stroke-width:2.0px;stroke-linecap:butt;stroke-linejoin:miter;stroke-opacity:1\"/>\n<path class=\"bond-6 atom-6 atom-7\" d=\"M 809.7,53.4 L 825.9,49.6\" style=\"fill:none;fill-rule:evenodd;stroke:#FF0000;stroke-width:2.0px;stroke-linecap:butt;stroke-linejoin:miter;stroke-opacity:1\"/>\n<path class=\"bond-6 atom-6 atom-7\" d=\"M 825.9,49.6 L 842.0,45.8\" style=\"fill:none;fill-rule:evenodd;stroke:#000000;stroke-width:2.0px;stroke-linecap:butt;stroke-linejoin:miter;stroke-opacity:1\"/>\n<path class=\"bond-7 atom-5 atom-8\" d=\"M 791.8,93.0 L 819.0,122.0\" style=\"fill:none;fill-rule:evenodd;stroke:#000000;stroke-width:2.0px;stroke-linecap:butt;stroke-linejoin:miter;stroke-opacity:1\"/>\n<path class=\"bond-7 atom-5 atom-8\" d=\"M 789.8,99.6 L 812.3,123.6\" style=\"fill:none;fill-rule:evenodd;stroke:#000000;stroke-width:2.0px;stroke-linecap:butt;stroke-linejoin:miter;stroke-opacity:1\"/>\n<path class=\"bond-8 atom-8 atom-9\" d=\"M 819.0,122.0 L 835.1,118.2\" style=\"fill:none;fill-rule:evenodd;stroke:#000000;stroke-width:2.0px;stroke-linecap:butt;stroke-linejoin:miter;stroke-opacity:1\"/>\n<path class=\"bond-8 atom-8 atom-9\" d=\"M 835.1,118.2 L 851.3,114.4\" style=\"fill:none;fill-rule:evenodd;stroke:#FF0000;stroke-width:2.0px;stroke-linecap:butt;stroke-linejoin:miter;stroke-opacity:1\"/>\n<path class=\"bond-9 atom-9 atom-10\" d=\"M 864.2,119.8 L 874.6,130.9\" style=\"fill:none;fill-rule:evenodd;stroke:#FF0000;stroke-width:2.0px;stroke-linecap:butt;stroke-linejoin:miter;stroke-opacity:1\"/>\n<path class=\"bond-9 atom-9 atom-10\" d=\"M 874.6,130.9 L 885.0,141.9\" style=\"fill:none;fill-rule:evenodd;stroke:#000000;stroke-width:2.0px;stroke-linecap:butt;stroke-linejoin:miter;stroke-opacity:1\"/>\n<path class=\"bond-10 atom-3 atom-11\" d=\"M 741.5,140.2 L 702.8,149.3\" style=\"fill:none;fill-rule:evenodd;stroke:#000000;stroke-width:2.0px;stroke-linecap:butt;stroke-linejoin:miter;stroke-opacity:1\"/>\n<path class=\"bond-11 atom-11 atom-12\" d=\"M 702.8,149.3 L 675.5,120.2\" style=\"fill:none;fill-rule:evenodd;stroke:#000000;stroke-width:2.0px;stroke-linecap:butt;stroke-linejoin:miter;stroke-opacity:1\"/>\n<path class=\"bond-12 atom-12 atom-13\" d=\"M 675.5,120.2 L 658.9,124.1\" style=\"fill:none;fill-rule:evenodd;stroke:#000000;stroke-width:2.0px;stroke-linecap:butt;stroke-linejoin:miter;stroke-opacity:1\"/>\n<path class=\"bond-12 atom-12 atom-13\" d=\"M 658.9,124.1 L 642.3,128.0\" style=\"fill:none;fill-rule:evenodd;stroke:#0000FF;stroke-width:2.0px;stroke-linecap:butt;stroke-linejoin:miter;stroke-opacity:1\"/>\n<path class=\"bond-13 atom-0 atom-14\" d=\"M 832.6,196.3 L 827.9,211.8\" style=\"fill:none;fill-rule:evenodd;stroke:#FF0000;stroke-width:2.0px;stroke-linecap:butt;stroke-linejoin:miter;stroke-opacity:1\"/>\n<path class=\"bond-13 atom-0 atom-14\" d=\"M 827.9,211.8 L 823.2,227.2\" style=\"fill:none;fill-rule:evenodd;stroke:#000000;stroke-width:2.0px;stroke-linecap:butt;stroke-linejoin:miter;stroke-opacity:1\"/>\n<path class=\"bond-14 atom-8 atom-1\" d=\"M 819.0,122.0 L 807.5,160.1\" style=\"fill:none;fill-rule:evenodd;stroke:#000000;stroke-width:2.0px;stroke-linecap:butt;stroke-linejoin:miter;stroke-opacity:1\"/>\n<path d=\"M 770.7,168.7 L 768.7,169.2 L 767.4,167.7\" style=\"fill:none;stroke:#000000;stroke-width:2.0px;stroke-linecap:butt;stroke-linejoin:miter;stroke-opacity:1;\"/>\n<path d=\"M 752.4,104.0 L 753.0,102.1 L 754.9,101.6\" style=\"fill:none;stroke:#000000;stroke-width:2.0px;stroke-linecap:butt;stroke-linejoin:miter;stroke-opacity:1;\"/>\n<path d=\"M 704.7,148.8 L 702.8,149.3 L 701.4,147.8\" style=\"fill:none;stroke:#000000;stroke-width:2.0px;stroke-linecap:butt;stroke-linejoin:miter;stroke-opacity:1;\"/>\n<path d=\"M 676.9,121.7 L 675.5,120.2 L 674.7,120.4\" style=\"fill:none;stroke:#000000;stroke-width:2.0px;stroke-linecap:butt;stroke-linejoin:miter;stroke-opacity:1;\"/>\n<path class=\"atom-0\" d=\"M 829.6 189.1 Q 829.6 186.4, 830.9 184.9 Q 832.2 183.4, 834.7 183.4 Q 837.2 183.4, 838.6 184.9 Q 839.9 186.4, 839.9 189.1 Q 839.9 191.9, 838.6 193.4 Q 837.2 195.0, 834.7 195.0 Q 832.3 195.0, 830.9 193.4 Q 829.6 191.9, 829.6 189.1 M 834.7 193.7 Q 836.5 193.7, 837.4 192.6 Q 838.3 191.4, 838.3 189.1 Q 838.3 186.9, 837.4 185.8 Q 836.5 184.7, 834.7 184.7 Q 833.0 184.7, 832.1 185.8 Q 831.2 186.9, 831.2 189.1 Q 831.2 191.4, 832.1 192.6 Q 833.0 193.7, 834.7 193.7 \" fill=\"#FF0000\"/>\n<path class=\"atom-6\" d=\"M 798.1 54.9 Q 798.1 52.2, 799.4 50.7 Q 800.8 49.2, 803.3 49.2 Q 805.8 49.2, 807.1 50.7 Q 808.4 52.2, 808.4 54.9 Q 808.4 57.6, 807.1 59.2 Q 805.7 60.8, 803.3 60.8 Q 800.8 60.8, 799.4 59.2 Q 798.1 57.7, 798.1 54.9 M 803.3 59.5 Q 805.0 59.5, 805.9 58.3 Q 806.8 57.2, 806.8 54.9 Q 806.8 52.7, 805.9 51.6 Q 805.0 50.4, 803.3 50.4 Q 801.5 50.4, 800.6 51.6 Q 799.7 52.7, 799.7 54.9 Q 799.7 57.2, 800.6 58.3 Q 801.5 59.5, 803.3 59.5 \" fill=\"#FF0000\"/>\n<path class=\"atom-9\" d=\"M 852.6 112.9 Q 852.6 110.2, 853.9 108.7 Q 855.3 107.2, 857.8 107.2 Q 860.3 107.2, 861.6 108.7 Q 862.9 110.2, 862.9 112.9 Q 862.9 115.7, 861.6 117.2 Q 860.2 118.8, 857.8 118.8 Q 855.3 118.8, 853.9 117.2 Q 852.6 115.7, 852.6 112.9 M 857.8 117.5 Q 859.5 117.5, 860.4 116.4 Q 861.3 115.2, 861.3 112.9 Q 861.3 110.7, 860.4 109.6 Q 859.5 108.5, 857.8 108.5 Q 856.0 108.5, 855.1 109.6 Q 854.2 110.7, 854.2 112.9 Q 854.2 115.2, 855.1 116.4 Q 856.0 117.5, 857.8 117.5 \" fill=\"#FF0000\"/>\n<path class=\"atom-13\" d=\"M 615.0 123.7 L 616.5 123.7 L 616.5 128.5 L 622.3 128.5 L 622.3 123.7 L 623.8 123.7 L 623.8 135.0 L 622.3 135.0 L 622.3 129.8 L 616.5 129.8 L 616.5 135.0 L 615.0 135.0 L 615.0 123.7 \" fill=\"#0000FF\"/>\n<path class=\"atom-13\" d=\"M 626.0 134.6 Q 626.3 133.9, 627.0 133.5 Q 627.6 133.1, 628.5 133.1 Q 629.6 133.1, 630.3 133.7 Q 630.9 134.3, 630.9 135.4 Q 630.9 136.5, 630.1 137.5 Q 629.3 138.5, 627.6 139.8 L 631.0 139.8 L 631.0 140.6 L 626.0 140.6 L 626.0 139.9 Q 627.4 138.9, 628.2 138.2 Q 629.0 137.4, 629.4 136.8 Q 629.8 136.1, 629.8 135.4 Q 629.8 134.7, 629.5 134.3 Q 629.1 133.9, 628.5 133.9 Q 627.9 133.9, 627.5 134.2 Q 627.1 134.4, 626.8 134.9 L 626.0 134.6 \" fill=\"#0000FF\"/>\n<path class=\"atom-13\" d=\"M 634.3 123.7 L 638.0 129.7 Q 638.3 130.3, 638.9 131.3 Q 639.5 132.4, 639.5 132.5 L 639.5 123.7 L 641.0 123.7 L 641.0 135.0 L 639.5 135.0 L 635.5 128.4 Q 635.1 127.7, 634.6 126.8 Q 634.1 125.9, 633.9 125.7 L 633.9 135.0 L 632.5 135.0 L 632.5 123.7 L 634.3 123.7 \" fill=\"#0000FF\"/>\n<path class=\"legend\" d=\"M 724.8 276.4 Q 726.2 276.4, 726.9 277.2 Q 727.6 277.9, 727.6 279.4 L 727.6 284.8 L 726.1 284.8 L 726.1 279.5 Q 726.1 278.5, 725.7 278.1 Q 725.3 277.6, 724.5 277.6 Q 723.8 277.6, 723.1 278.0 Q 722.5 278.3, 722.2 278.9 Q 722.2 279.1, 722.2 279.4 L 722.2 284.8 L 720.7 284.8 L 720.7 279.5 Q 720.7 278.5, 720.3 278.1 Q 719.9 277.6, 719.1 277.6 Q 718.4 277.6, 717.8 278.0 Q 717.2 278.3, 716.8 278.9 L 716.8 284.8 L 715.3 284.8 L 715.3 276.6 L 716.5 276.6 L 716.7 277.7 Q 717.7 276.4, 719.4 276.4 Q 721.3 276.4, 721.9 277.9 Q 723.0 276.4, 724.8 276.4 \" fill=\"#000000\"/>\n<path class=\"legend\" d=\"M 729.4 280.7 Q 729.4 278.7, 730.4 277.6 Q 731.4 276.4, 733.3 276.4 Q 735.1 276.4, 735.9 277.5 Q 736.7 278.6, 736.7 280.6 L 736.7 280.9 L 731.0 280.9 Q 731.0 282.3, 731.6 283.0 Q 732.2 283.8, 733.4 283.8 Q 734.1 283.8, 734.6 283.6 Q 735.2 283.4, 736.0 283.1 L 736.4 284.2 Q 735.6 284.6, 734.8 284.8 Q 734.1 284.9, 733.3 284.9 Q 731.5 284.9, 730.5 283.8 Q 729.4 282.7, 729.4 280.7 M 733.3 277.6 Q 732.3 277.6, 731.8 278.2 Q 731.2 278.7, 731.0 279.8 L 735.1 279.8 Q 735.0 278.7, 734.6 278.2 Q 734.1 277.6, 733.3 277.6 \" fill=\"#000000\"/>\n<path class=\"legend\" d=\"M 738.4 283.1 Q 739.1 283.4, 739.6 283.6 Q 740.2 283.7, 740.7 283.7 Q 741.4 283.7, 741.8 283.4 Q 742.3 283.1, 742.3 282.5 Q 742.3 282.1, 742.0 281.9 Q 741.8 281.7, 741.6 281.6 Q 741.3 281.4, 740.6 281.2 Q 740.5 281.2, 739.7 280.9 Q 739.0 280.7, 738.6 280.1 Q 738.2 279.6, 738.2 278.8 Q 738.2 277.8, 739.0 277.1 Q 739.8 276.4, 741.2 276.4 Q 741.9 276.4, 742.4 276.6 Q 743.0 276.7, 743.6 277.0 L 743.2 278.2 Q 742.6 277.9, 742.2 277.8 Q 741.7 277.7, 741.2 277.7 Q 740.5 277.7, 740.1 278.0 Q 739.7 278.3, 739.7 278.8 Q 739.7 279.2, 740.0 279.4 Q 740.3 279.6, 741.0 279.9 Q 741.2 279.9, 741.3 280.0 L 741.7 280.1 Q 742.4 280.4, 742.8 280.6 Q 743.2 280.8, 743.5 281.3 Q 743.8 281.7, 743.8 282.5 Q 743.8 283.7, 742.9 284.3 Q 742.1 285.0, 740.7 285.0 Q 740.0 285.0, 739.3 284.8 Q 738.6 284.6, 737.9 284.3 L 738.4 283.1 \" fill=\"#000000\"/>\n<path class=\"legend\" d=\"M 745.2 280.7 Q 745.2 278.7, 746.2 277.6 Q 747.2 276.4, 749.2 276.4 Q 751.0 276.4, 752.0 277.8 L 751.0 278.6 Q 750.6 278.1, 750.2 277.9 Q 749.8 277.6, 749.2 277.6 Q 748.0 277.6, 747.4 278.4 Q 746.8 279.2, 746.8 280.7 Q 746.8 282.2, 747.4 283.0 Q 748.1 283.8, 749.3 283.8 Q 749.9 283.8, 750.4 283.6 Q 750.9 283.4, 751.4 283.2 L 751.9 284.2 Q 750.7 284.9, 749.2 284.9 Q 747.2 284.9, 746.2 283.8 Q 745.2 282.7, 745.2 280.7 \" fill=\"#000000\"/>\n<path class=\"legend\" d=\"M 753.0 282.6 Q 753.0 281.3, 754.1 280.6 Q 755.1 279.8, 757.1 279.8 L 758.3 279.8 L 758.3 279.5 Q 758.3 278.5, 757.9 278.1 Q 757.4 277.6, 756.4 277.6 Q 755.8 277.6, 755.3 277.8 Q 754.7 277.9, 753.9 278.2 L 753.5 277.2 Q 755.0 276.4, 756.5 276.4 Q 758.2 276.4, 759.0 277.2 Q 759.8 277.9, 759.8 279.5 L 759.8 284.8 L 758.6 284.8 Q 758.6 284.7, 758.6 284.5 Q 758.5 284.2, 758.4 283.8 Q 757.3 285.0, 755.7 285.0 Q 754.5 285.0, 753.8 284.3 Q 753.0 283.7, 753.0 282.6 M 754.5 282.6 Q 754.5 283.2, 754.9 283.5 Q 755.3 283.8, 756.0 283.8 Q 756.7 283.8, 757.3 283.5 Q 757.9 283.2, 758.3 282.7 L 758.3 281.0 L 757.2 281.0 Q 755.9 281.0, 755.2 281.4 Q 754.5 281.8, 754.5 282.6 \" fill=\"#000000\"/>\n<path class=\"legend\" d=\"M 761.7 272.7 L 763.1 272.7 L 763.1 284.8 L 761.7 284.8 L 761.7 272.7 \" fill=\"#000000\"/>\n<path class=\"legend\" d=\"M 765.1 273.5 L 766.6 273.5 L 766.6 274.9 L 765.1 274.9 L 765.1 273.5 M 765.1 276.6 L 766.6 276.6 L 766.6 284.8 L 765.1 284.8 L 765.1 276.6 \" fill=\"#000000\"/>\n<path class=\"legend\" d=\"M 772.9 276.4 Q 774.2 276.4, 774.9 277.2 Q 775.6 277.9, 775.6 279.4 L 775.6 284.8 L 774.1 284.8 L 774.1 279.5 Q 774.1 278.5, 773.7 278.1 Q 773.3 277.6, 772.5 277.6 Q 771.8 277.6, 771.1 278.0 Q 770.5 278.3, 770.1 278.9 L 770.1 284.8 L 768.6 284.8 L 768.6 276.6 L 769.8 276.6 L 770.0 277.7 Q 771.1 276.4, 772.9 276.4 \" fill=\"#000000\"/>\n<path class=\"legend\" d=\"M 777.4 280.7 Q 777.4 278.7, 778.5 277.6 Q 779.5 276.4, 781.3 276.4 Q 783.1 276.4, 783.9 277.5 Q 784.7 278.6, 784.7 280.6 L 784.7 280.9 L 779.0 280.9 Q 779.0 282.3, 779.6 283.0 Q 780.3 283.8, 781.4 283.8 Q 782.1 283.8, 782.7 283.6 Q 783.3 283.4, 784.0 283.1 L 784.4 284.2 Q 783.6 284.6, 782.9 284.8 Q 782.1 284.9, 781.4 284.9 Q 779.5 284.9, 778.5 283.8 Q 777.4 282.7, 777.4 280.7 M 781.3 277.6 Q 780.4 277.6, 779.8 278.2 Q 779.2 278.7, 779.0 279.8 L 783.1 279.8 Q 783.0 278.7, 782.6 278.2 Q 782.1 277.6, 781.3 277.6 \" fill=\"#000000\"/>\n</svg>"
     },
     "execution_count": 2,
     "metadata": {},
     "output_type": "execute_result"
    }
   ],
   "execution_count": 2
  },
  {
   "cell_type": "markdown",
   "id": "55f0eeb2abdfe0",
   "metadata": {},
   "source": [
    "## Generating Conformations\n",
    "The 3D conformation can now be generated. For this example, a randomseed is given to ensure reproducibility."
   ]
  },
  {
   "cell_type": "code",
   "id": "fbe141c10bd12d68",
   "metadata": {
    "ExecuteTime": {
     "end_time": "2025-05-19T10:14:30.010461Z",
     "start_time": "2025-05-19T10:14:29.986650Z"
    }
   },
   "source": [
    "mols = [Chem.AddHs(m) for m in mols]\n",
    "ps = AllChem.ETKDGv3()\n",
    "ps.randomSeed = 42\n",
    "for m in mols:\n",
    "    AllChem.EmbedMolecule(m,ps)"
   ],
   "outputs": [],
   "execution_count": 3
  },
  {
   "cell_type": "markdown",
   "id": "fd286d99f83a5650",
   "metadata": {},
   "source": [
    "Once the 3D conformations have been generated, the molecules can be aligned. This is done using RDKit's Open3D align implementation. The alignment results can also output the RMSD score between the alignments. In this case, the serotonin molecule is used as the \"base\" for alignment. The resulting RMSD score gives an indication of the alignment results."
   ]
  },
  {
   "cell_type": "code",
   "id": "13c5e5d92cf8c07c",
   "metadata": {
    "ExecuteTime": {
     "end_time": "2025-05-19T10:14:30.027254Z",
     "start_time": "2025-05-19T10:14:30.016986Z"
    }
   },
   "source": [
    "aligned = []\n",
    "\n",
    "for x in mols:\n",
    "    mol_aligned = rdMolAlign.GetO3A(x,mols[0])\n",
    "    aligned.append(mol_aligned.Align())\n",
    "\n",
    "# print(aligned)  # Optional. Will display a list of RMSD alignment score."
   ],
   "outputs": [],
   "execution_count": 4
  },
  {
   "cell_type": "markdown",
   "id": "34ee35f269a3cf3d",
   "metadata": {},
   "source": [
    "#### Optional\n",
    "Because the molecules in this tutorial were rendered from SMILES strings, the 3D conformation will need to be saved. In this case, the conformation will be saved in .sdf format. This is done as follows:"
   ]
  },
  {
   "cell_type": "code",
   "id": "774504c1b233c361",
   "metadata": {
    "ExecuteTime": {
     "end_time": "2025-05-19T10:14:30.036416Z",
     "start_time": "2025-05-19T10:14:30.034154Z"
    }
   },
   "source": [
    "for mol, name in zip(mols, mol_name):\n",
    "    w = Chem.SDWriter(f\"data/{name}.sdf\")\n",
    "    w.write(mol)\n",
    "    w.close()"
   ],
   "outputs": [],
   "execution_count": 5
  },
  {
   "cell_type": "markdown",
   "id": "27e9af488f3288f4",
   "metadata": {},
   "source": [
    "### Checking Conformation\n",
    "Molecule conformation can be checked from the generated .sdf script above. Or the molecule conformation can be generated in 2D."
   ]
  },
  {
   "cell_type": "code",
   "id": "e8ba18a43dd424d1",
   "metadata": {
    "ExecuteTime": {
     "end_time": "2025-05-19T10:14:30.049501Z",
     "start_time": "2025-05-19T10:14:30.043881Z"
    }
   },
   "source": [
    "mols_noH = [Chem.RemoveHs(m) for m in mols]  # remove hydrogens for clarity.\n",
    "mols_noH[2]"
   ],
   "outputs": [
    {
     "data": {
      "text/plain": [
       "<rdkit.Chem.rdchem.Mol at 0x117f023b0>"
      ],
      "image/png": "[encoded data removed]"
     },
     "execution_count": 6,
     "metadata": {},
     "output_type": "execute_result"
    }
   ],
   "execution_count": 6
  },
  {
   "cell_type": "markdown",
   "id": "533652bb25480eec",
   "metadata": {},
   "source": [
    "## Count Pharmacophores\n",
    "Pharmacophores for each molecule can be generated and displayed as a DataFrame. To generate the table, initialize the Pharmacophore() class. By default, the Pharmacophore-Toolkit features will be set to use \"default\" methods. The Pharmacophore-Toolkit can also utilize RDKit feature sets by setting the feature param to \"rdkit\" or a custom feature set given in a dictionary format.\n",
    "\n",
    "Once initialized, the to_df() method can be used. This method requires a list of molecules in Chem.Mol format and a list of the molecule name. The to_df() method also contains a \"features\" param that, if given, will override the param given upon Pharmacophore initialization. Again, \"default\", \"rdkit\", or a custom feature set in a dictionary format can be given. The generated table will display the number of matches to the given features in a DataFrame."
   ]
  },
  {
   "cell_type": "code",
   "id": "a3b8aac02fa04c71",
   "metadata": {
    "ExecuteTime": {
     "end_time": "2025-05-19T10:14:30.105680Z",
     "start_time": "2025-05-19T10:14:30.060531Z"
    }
   },
   "source": [
    "pharm = Pharmacophore()\n",
    "\n",
    "df = pharm.to_df(mols_noH, mol_name)\n",
    "df"
   ],
   "outputs": [
    {
     "data": {
      "text/plain": [
       "            serotonin  psilocin  mescaline\n",
       "Donor               3         2          1\n",
       "Aromatic            2         2          1\n",
       "Acceptor            0         1          3\n",
       "Hydrophobe          0         3          3"
      ],
      "text/html": [
       "<div>\n",
       "<style scoped>\n",
       "    .dataframe tbody tr th:only-of-type {\n",
       "        vertical-align: middle;\n",
       "    }\n",
       "\n",
       "    .dataframe tbody tr th {\n",
       "        vertical-align: top;\n",
       "    }\n",
       "\n",
       "    .dataframe thead th {\n",
       "        text-align: right;\n",
       "    }\n",
       "</style>\n",
       "<table border=\"1\" class=\"dataframe\">\n",
       "  <thead>\n",
       "    <tr style=\"text-align: right;\">\n",
       "      <th></th>\n",
       "      <th>serotonin</th>\n",
       "      <th>psilocin</th>\n",
       "      <th>mescaline</th>\n",
       "    </tr>\n",
       "  </thead>\n",
       "  <tbody>\n",
       "    <tr>\n",
       "      <th>Donor</th>\n",
       "      <td>3</td>\n",
       "      <td>2</td>\n",
       "      <td>1</td>\n",
       "    </tr>\n",
       "    <tr>\n",
       "      <th>Aromatic</th>\n",
       "      <td>2</td>\n",
       "      <td>2</td>\n",
       "      <td>1</td>\n",
       "    </tr>\n",
       "    <tr>\n",
       "      <th>Acceptor</th>\n",
       "      <td>0</td>\n",
       "      <td>1</td>\n",
       "      <td>3</td>\n",
       "    </tr>\n",
       "    <tr>\n",
       "      <th>Hydrophobe</th>\n",
       "      <td>0</td>\n",
       "      <td>3</td>\n",
       "      <td>3</td>\n",
       "    </tr>\n",
       "  </tbody>\n",
       "</table>\n",
       "</div>"
      ]
     },
     "execution_count": 7,
     "metadata": {},
     "output_type": "execute_result"
    }
   ],
   "execution_count": 7
  },
  {
   "cell_type": "markdown",
   "id": "4544c5c2e54cc4a3",
   "metadata": {},
   "source": [
    "#### Optional—Custom Features\n",
    "If the \"default\" or \"RDKit\" features are not suitable for a project, users can set their own features. This requires a dictionary in 'feature_name':[SMARTS string] format. An example is given to identify all aromatic carbon atoms."
   ]
  },
  {
   "cell_type": "code",
   "id": "b3faae7ede021e63",
   "metadata": {
    "ExecuteTime": {
     "end_time": "2025-05-19T10:14:30.145600Z",
     "start_time": "2025-05-19T10:14:30.133894Z"
    }
   },
   "source": [
    "custom_feat = {'aromatic': ['c']}\n",
    "\n",
    "custom_df = pharm.to_df(mols, mol_name, features=custom_feat)\n",
    "custom_df"
   ],
   "outputs": [
    {
     "data": {
      "text/plain": [
       "          serotonin  psilocin  mescaline\n",
       "aromatic          8         8          6"
      ],
      "text/html": [
       "<div>\n",
       "<style scoped>\n",
       "    .dataframe tbody tr th:only-of-type {\n",
       "        vertical-align: middle;\n",
       "    }\n",
       "\n",
       "    .dataframe tbody tr th {\n",
       "        vertical-align: top;\n",
       "    }\n",
       "\n",
       "    .dataframe thead th {\n",
       "        text-align: right;\n",
       "    }\n",
       "</style>\n",
       "<table border=\"1\" class=\"dataframe\">\n",
       "  <thead>\n",
       "    <tr style=\"text-align: right;\">\n",
       "      <th></th>\n",
       "      <th>serotonin</th>\n",
       "      <th>psilocin</th>\n",
       "      <th>mescaline</th>\n",
       "    </tr>\n",
       "  </thead>\n",
       "  <tbody>\n",
       "    <tr>\n",
       "      <th>aromatic</th>\n",
       "      <td>8</td>\n",
       "      <td>8</td>\n",
       "      <td>6</td>\n",
       "    </tr>\n",
       "  </tbody>\n",
       "</table>\n",
       "</div>"
      ]
     },
     "execution_count": 8,
     "metadata": {},
     "output_type": "execute_result"
    }
   ],
   "execution_count": 8
  },
  {
   "cell_type": "code",
   "id": "6cf577afed3e97b8",
   "metadata": {
    "ExecuteTime": {
     "end_time": "2025-05-19T10:14:30.201762Z",
     "start_time": "2025-05-19T10:14:30.199512Z"
    }
   },
   "source": [
    "pharm.features"
   ],
   "outputs": [
    {
     "data": {
      "text/plain": [
       "{'aromatic': ['c']}"
      ]
     },
     "execution_count": 9,
     "metadata": {},
     "output_type": "execute_result"
    }
   ],
   "execution_count": 9
  },
  {
   "cell_type": "markdown",
   "id": "21e25fb4762e0824",
   "metadata": {},
   "source": [
    "### Checking Features\n",
    "Features used for a given model can be dispalyed using the feature_types() method.\n",
    "Output default features. Can be used to output features associated with rdkit using the \"features\" param.\n",
    "\n",
    "**NOTE:** Setting the feature types will overwrite the stored value. In this case, it is set to the custom_feat dictionary from above. In this example, the Pharmacophore() class will be reinitialized to use the default features."
   ]
  },
  {
   "cell_type": "code",
   "id": "9cae576f2959c4a0",
   "metadata": {
    "ExecuteTime": {
     "end_time": "2025-05-19T10:14:30.281108Z",
     "start_time": "2025-05-19T10:14:30.279210Z"
    }
   },
   "source": [
    "pharm = Pharmacophore()\n",
    "print(pharm.feature_types())"
   ],
   "outputs": [
    {
     "name": "stdout",
     "output_type": "stream",
     "text": [
      "Default features: \n",
      "('Donor', 'Acceptor', 'Aromatic', 'Hydrophobe')\n"
     ]
    }
   ],
   "execution_count": 10
  },
  {
   "cell_type": "markdown",
   "id": "4bf4f8504a0ac05",
   "metadata": {},
   "source": [
    "## Generate Pharmacophore Features\n",
    "The following script will generate pharmacophore features based on a query molecule. This will take the molecule with the 3D conformaiton generated above and output a list of lists, containing the feature type, matching atom index, and the XYZ position. The features for the serotonin molecule is given as an example.\n",
    "\n",
    "Again, the calc_pharm contains a \"features\" param that can modify the type of features for a molecule. As none is given at for this method or at the initialization of the Pharmacophore class, it will utilize default features."
   ]
  },
  {
   "cell_type": "code",
   "id": "488925ba4a88ddb2",
   "metadata": {
    "ExecuteTime": {
     "end_time": "2025-05-19T10:14:30.341590Z",
     "start_time": "2025-05-19T10:14:30.325187Z"
    }
   },
   "source": [
    "# default\n",
    "pharma = pharm.calc_pharm(mols_noH[0])\n",
    "pharma"
   ],
   "outputs": [
    {
     "data": {
      "text/plain": [
       "[['Donor', (9,), -0.9046174520168838, -2.235699615827842, 0.13645934200480056],\n",
       " ['Donor', (12,), 2.949925200279259, -0.15648413497184238, 1.2254205073233995],\n",
       " ['Donor', (6,), -2.5995394084260526, 2.931207478597561, -0.5905278269049035],\n",
       " ['Aromatic',\n",
       "  (0, 1, 2, 3, 4, 5),\n",
       "  -1.8583650464904398,\n",
       "  0.2926900071440297,\n",
       "  -0.1871054571985934],\n",
       " ['Aromatic',\n",
       "  (2, 3, 7, 8, 9),\n",
       "  -0.384216675975982,\n",
       "  -1.2654866328983938,\n",
       "  -0.21240652662909393]]"
      ]
     },
     "execution_count": 11,
     "metadata": {},
     "output_type": "execute_result"
    }
   ],
   "execution_count": 11
  },
  {
   "metadata": {},
   "cell_type": "markdown",
   "source": [
    "## Render Pharmacophore Features\n",
    "\n",
    "The pharmacophore-toolkit contains a View() class to quickly render the molecules and their pharmacophores in a Jupyter notebook. This requires calling the View() class and the view() method. The parameters includes an RDKit molecule or a list of RDKit molecules and the calculated pharmacophores genereated from calc_pharm().\n",
    "\n",
    "Additional parameters includes lables and window to label the pharmacophores and adjust the py3dmol window size, respectively.\n",
    "\n",
    "**NOTE:** This method only works in Jupyter Notebook!"
   ],
   "id": "2f8ddcebe2d53a49"
  },
  {
   "cell_type": "code",
   "id": "ef8ada67af493397",
   "metadata": {
    "ExecuteTime": {
     "end_time": "2025-05-19T10:14:30.404689Z",
     "start_time": "2025-05-19T10:14:30.362535Z"
    }
   },
   "source": [
    "v = View()\n",
    "single = mols_noH[0]\n",
    "v.view(mols_noH, pharma, labels=True, window=(500, 500))"
   ],
   "outputs": [
    {
     "data": {
      "text/plain": [
       "interactive(children=(Dropdown(description='Select:', options=(('Molecule 1', 0), ('Molecule 2', 1), ('Molecul…"
      ],
      "application/vnd.jupyter.widget-view+json": {
       "version_major": 2,
       "version_minor": 0,
       "model_id": "927f2b1dd3354485a15a9c8f756b7e85"
      }
     },
     "metadata": {},
     "output_type": "display_data"
    }
   ],
   "execution_count": 12
  },
  {
   "metadata": {},
   "cell_type": "markdown",
   "source": "**NOTE:** Notice that the interactive window includes a dropdown box. The pharmacophores drawn only correspond to serotonin (the first molecule). This is because the calculated pharmacophores were only generated for serotonin. For users that want a list of molecules and pharmacophores to cycle through, the pharmacophores must be calculated for each molecule. This can be done as follows:",
   "id": "fbd26164d9ff349d"
  },
  {
   "metadata": {
    "ExecuteTime": {
     "end_time": "2025-05-19T10:14:30.457413Z",
     "start_time": "2025-05-19T10:14:30.418850Z"
    }
   },
   "cell_type": "code",
   "source": [
    "pharma = []\n",
    "for x in mols_noH:\n",
    "    calc = pharm.calc_pharm(x)\n",
    "    pharma.append(calc)\n",
    "# pharma # To check the list of pharmacophores"
   ],
   "id": "17204b09218637b6",
   "outputs": [],
   "execution_count": 13
  },
  {
   "metadata": {
    "ExecuteTime": {
     "end_time": "2025-05-19T10:14:30.474127Z",
     "start_time": "2025-05-19T10:14:30.466491Z"
    }
   },
   "cell_type": "code",
   "source": [
    "v = View()\n",
    "single = mols_noH[0]\n",
    "v.view(mols_noH, pharma, labels=True, window=(500, 500))"
   ],
   "id": "f58c025e48fb8c67",
   "outputs": [
    {
     "data": {
      "text/plain": [
       "interactive(children=(Dropdown(description='Select:', options=(('Molecule 1', 0), ('Molecule 2', 1), ('Molecul…"
      ],
      "application/vnd.jupyter.widget-view+json": {
       "version_major": 2,
       "version_minor": 0,
       "model_id": "473d749c957b4bc39a3977a01fc5f130"
      }
     },
     "metadata": {},
     "output_type": "display_data"
    }
   ],
   "execution_count": 14
  },
  {
   "metadata": {},
   "cell_type": "markdown",
   "source": [
    "## Output Pharmacophore Features\n",
    "\n",
    "As of now, py3Dmol does not include a screenshot feature. Rendering the pharmacophores for each molecule may be easier in pyMOL. The calculated pharmacophore features can be saved as a .pml file and then opened in pyMOL directly with the molecules (in .sdf or .mol2 formate). This will allow users to render the images in higher quality and save the 3D orientation based on user preferences."
   ],
   "id": "98a0a071fefafbd7"
  },
  {
   "cell_type": "code",
   "id": "da1213a99343b11a",
   "metadata": {
    "ExecuteTime": {
     "end_time": "2025-05-19T10:14:30.492330Z",
     "start_time": "2025-05-19T10:14:30.489048Z"
    }
   },
   "source": [
    "pharm.output_features(savepath='data/pharma.pml')"
   ],
   "outputs": [
    {
     "name": "stdout",
     "output_type": "stream",
     "text": [
      "Number of features: 8\n",
      "Feature visualization script written to data/pharma.pml.\n"
     ]
    }
   ],
   "execution_count": 15
  },
  {
   "cell_type": "markdown",
   "id": "d0fd39bda014de15",
   "metadata": {},
   "source": [
    "## Generate 2D Image\n",
    "Pharmacophores can also be highlighted on the molecule in 2D. This is done using the Draw() class. Much of the parameters are the same as those used in the Pharmacophore() class. The query molecule will be drawn and atoms matching the pharmacophore sets will be highlighted in the corresponding color."
   ]
  },
  {
   "cell_type": "code",
   "id": "8cefbf3fcfad7e59",
   "metadata": {
    "ExecuteTime": {
     "end_time": "2025-05-19T10:14:21.492629Z",
     "start_time": "2025-05-19T10:14:21.374193Z"
    }
   },
   "source": [
    "draw = Draw()\n",
    "draw.draw_pharm(mols_noH[0])"
   ],
   "outputs": [
    {
     "data": {
      "text/plain": [
       "<Figure size 400x400 with 2 Axes>"
      ],
      "image/png": "[encoded data removed]"
     },
     "metadata": {},
     "output_type": "display_data"
    }
   ],
   "execution_count": 16
  },
  {
   "cell_type": "markdown",
   "id": "3d4ed6e29989cd5d",
   "metadata": {
    "ExecuteTime": {
     "end_time": "2025-05-19T04:13:22.741921Z",
     "start_time": "2025-05-19T04:13:22.597299Z"
    }
   },
   "source": [
    "#### Optional Color Options\n",
    "Additionally, the colors on the 2D images can be modified by providing a dictionary for the color parameter in draw_pharm(). The dictionary should be in feature:color format. The feature must match the style given. i.e. same capitalization, spelling, etc. In this example, the custom_feat contains \"aromatic\" in lower case."
   ]
  },
  {
   "cell_type": "code",
   "id": "650b21f810b295e3",
   "metadata": {
    "ExecuteTime": {
     "end_time": "2025-05-19T10:14:32.386577Z",
     "start_time": "2025-05-19T10:14:32.290844Z"
    }
   },
   "source": [
    "draw = Draw(features=custom_feat)\n",
    "colors = {\"aromatic\":'gold'}\n",
    "draw.draw_pharm(mols_noH[0], color=colors)"
   ],
   "outputs": [
    {
     "data": {
      "text/plain": [
       "<Figure size 400x400 with 2 Axes>"
      ],
      "image/png": "[encoded data removed]"
     },
     "metadata": {},
     "output_type": "display_data"
    }
   ],
   "execution_count": 16
  }
 ],
 "metadata": {
  "kernelspec": {
   "display_name": "Python 3 (ipykernel)",
   "language": "python",
   "name": "python3"
  },
  "language_info": {
   "codemirror_mode": {
    "name": "ipython",
    "version": 3
   },
   "file_extension": ".py",
   "mimetype": "text/x-python",
   "name": "python",
   "nbconvert_exporter": "python",
   "pygments_lexer": "ipython3",
   "version": "3.13.1"
  }
 },
 "nbformat": 4,
 "nbformat_minor": 5
}
