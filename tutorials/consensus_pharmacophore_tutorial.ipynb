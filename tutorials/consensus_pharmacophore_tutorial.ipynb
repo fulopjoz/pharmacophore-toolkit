{
 "cells": [
  {
   "cell_type": "markdown",
   "metadata": {},
   "source": [
    "# Consensus Pharmacophore Tutorial\n",
    "\n",
    "This tutorial demonstrates how to generate a consensus pharmacophore model from multiple aligned 3D molecular structures. The consensus pharmacophore identifies common pharmacophoric features across different molecules or conformations.\n",
    "\n",
    "## What is a Consensus Pharmacophore?\n",
    "\n",
    "A consensus pharmacophore represents the common spatial arrangement of pharmacophoric features shared among multiple molecules. This is useful for:\n",
    "- Structure-based drug design with multiple ligand poses\n",
    "- Identifying key interaction points across a series of active compounds\n",
    "- Virtual screening based on common features"
   ]
  },
  {
   "cell_type": "code",
   "execution_count": null,
   "metadata": {},
   "outputs": [],
   "source": [
    "# Import required libraries\n",
    "from rdkit import Chem\n",
    "from rdkit.Chem import AllChem, rdMolAlign, Draw\n",
    "from pharmacophore import Pharmacophore, View\n",
    "import warnings\n",
    "warnings.filterwarnings('ignore')"
   ]
  },
  {
   "cell_type": "markdown",
   "metadata": {},
   "source": [
    "## Example 1: Consensus from Similar Molecules\n",
    "\n",
    "We'll use neurotransmitter molecules (Serotonin, Dopamine, Norepinephrine) as examples."
   ]
  },
  {
   "cell_type": "code",
   "execution_count": null,
   "metadata": {},
   "outputs": [],
   "source": [
    "# Define molecules\n",
    "smiles_list = [\n",
    "    \"NCCc1c[nH]c2ccc(O)cc12\",      # Serotonin\n",
    "    \"NCCc1ccc(O)c(O)c1\",            # Dopamine\n",
    "    \"NCC(O)c1ccc(O)c(O)c1\"          # Norepinephrine\n",
    "]\n",
    "\n",
    "mol_names = [\"Serotonin\", \"Dopamine\", \"Norepinephrine\"]\n",
    "\n",
    "# Create molecules and add hydrogens\n",
    "mols = [Chem.MolFromSmiles(s) for s in smiles_list]\n",
    "mols = [Chem.AddHs(m) for m in mols]\n",
    "\n",
    "# Generate 3D conformations\n",
    "ps = AllChem.ETKDGv3()\n",
    "ps.randomSeed = 42\n",
    "for m in mols:\n",
    "    AllChem.EmbedMolecule(m, ps)"
   ]
  },
  {
   "cell_type": "markdown",
   "metadata": {},
   "source": [
    "## Align Molecules\n",
    "\n",
    "For consensus pharmacophore generation, molecules should be aligned in 3D space. We'll use Serotonin as the reference."
   ]
  },
  {
   "cell_type": "code",
   "execution_count": null,
   "metadata": {},
   "outputs": [],
   "source": [
    "# Align molecules to the first one (Serotonin)\n",
    "aligned_rmsd = []\n",
    "for i in range(1, len(mols)):\n",
    "    alignment = rdMolAlign.GetO3A(mols[i], mols[0])\n",
    "    rmsd = alignment.Align()\n",
    "    aligned_rmsd.append(rmsd)\n",
    "    print(f\"{mol_names[i]} aligned to {mol_names[0]}, RMSD: {rmsd:.3f} Å\")"
   ]
  },
  {
   "cell_type": "markdown",
   "metadata": {},
   "source": [
    "## Calculate Individual Pharmacophores\n",
    "\n",
    "First, let's see the pharmacophore features for each molecule individually."
   ]
  },
  {
   "cell_type": "code",
   "execution_count": null,
   "metadata": {},
   "outputs": [],
   "source": [
    "# Calculate pharmacophores for each molecule\n",
    "pharm = Pharmacophore()\n",
    "individual_pharmas = []\n",
    "\n",
    "for i, mol in enumerate(mols):\n",
    "    features = pharm.calc_pharm(mol)\n",
    "    individual_pharmas.append(features)\n",
    "    print(f\"\\n{mol_names[i]}: {len(features)} features\")\n",
    "    for f in features:\n",
    "        print(f\"  {f[0]}\")"
   ]
  },
  {
   "cell_type": "markdown",
   "metadata": {},
   "source": [
    "## Generate Consensus Pharmacophore\n",
    "\n",
    "Now we'll generate the consensus pharmacophore using the `consensus_pharm` method. The distance threshold determines how close features need to be to be merged (default: 2.0 Å)."
   ]
  },
  {
   "cell_type": "code",
   "execution_count": null,
   "metadata": {},
   "outputs": [],
   "source": [
    "# Generate consensus pharmacophore\n",
    "consensus = pharm.consensus_pharm(mols, distance_threshold=2.0)\n",
    "\n",
    "print(f\"Consensus Pharmacophore: {len(consensus)} features\")\n",
    "print(\"\\nConsensus Features:\")\n",
    "\n",
    "# Group by type\n",
    "from collections import defaultdict\n",
    "by_type = defaultdict(list)\n",
    "for f in consensus:\n",
    "    by_type[f[0]].append(f)\n",
    "\n",
    "for feat_type, features in sorted(by_type.items()):\n",
    "    print(f\"\\n{feat_type}: {len(features)} feature(s)\")\n",
    "    for f in features:\n",
    "        print(f\"  Position: ({f[2]:.3f}, {f[3]:.3f}, {f[4]:.3f})\")"
   ]
  },
  {
   "cell_type": "markdown",
   "metadata": {},
   "source": [
    "## Visualize with 3D Viewer\n",
    "\n",
    "We can visualize the aligned molecules with their consensus pharmacophore."
   ]
  },
  {
   "cell_type": "code",
   "execution_count": null,
   "metadata": {},
   "outputs": [],
   "source": [
    "# Remove hydrogens for clarity in visualization\n",
    "mols_noH = [Chem.RemoveHs(m) for m in mols]\n",
    "\n",
    "# Visualize consensus pharmacophore\n",
    "v = View()\n",
    "v.view(mols_noH, consensus, labels=True, window=(600, 500))"
   ]
  },
  {
   "cell_type": "markdown",
   "metadata": {},
   "source": [
    "## Example 2: Effect of Distance Threshold\n",
    "\n",
    "The distance threshold parameter controls how features are clustered. Let's explore different values."
   ]
  },
  {
   "cell_type": "code",
   "execution_count": null,
   "metadata": {},
   "outputs": [],
   "source": [
    "# Test different thresholds\n",
    "thresholds = [1.0, 2.0, 3.0, 4.0]\n",
    "\n",
    "for threshold in thresholds:\n",
    "    consensus_temp = pharm.consensus_pharm(mols, distance_threshold=threshold)\n",
    "    print(f\"\\nThreshold {threshold:.1f} Å: {len(consensus_temp)} consensus features\")\n",
    "    \n",
    "    # Count by type\n",
    "    type_counts = {}\n",
    "    for f in consensus_temp:\n",
    "        feat_type = f[0]\n",
    "        type_counts[feat_type] = type_counts.get(feat_type, 0) + 1\n",
    "    \n",
    "    for feat_type, count in sorted(type_counts.items()):\n",
    "        print(f\"  {feat_type}: {count}\")"
   ]
  },
  {
   "cell_type": "markdown",
   "metadata": {},
   "source": [
    "## Example 3: Using RDKit Features\n",
    "\n",
    "The consensus pharmacophore can also use RDKit's default feature definitions."
   ]
  },
  {
   "cell_type": "code",
   "execution_count": null,
   "metadata": {},
   "outputs": [],
   "source": [
    "# Generate consensus with RDKit features\n",
    "consensus_rdkit = pharm.consensus_pharm(mols, distance_threshold=2.0, features='rdkit')\n",
    "\n",
    "print(f\"Consensus Pharmacophore (RDKit): {len(consensus_rdkit)} features\")\n",
    "print(\"\\nFeature types:\")\n",
    "rdkit_types = set(f[0] for f in consensus_rdkit)\n",
    "for feat_type in sorted(rdkit_types):\n",
    "    count = sum(1 for f in consensus_rdkit if f[0] == feat_type)\n",
    "    print(f\"  {feat_type}: {count}\")"
   ]
  },
  {
   "cell_type": "markdown",
   "metadata": {},
   "source": [
    "## Export Consensus Pharmacophore\n",
    "\n",
    "The consensus pharmacophore can be saved for visualization in PyMOL."
   ]
  },
  {
   "cell_type": "code",
   "execution_count": null,
   "metadata": {},
   "outputs": [],
   "source": [
    "# Output to PyMOL script\n",
    "pharm.output_features(feature_list=consensus, \n",
    "                     savepath='data/consensus_pharma.pml',\n",
    "                     sphere_size=0.8,\n",
    "                     transparency=0.3)"
   ]
  },
  {
   "cell_type": "markdown",
   "metadata": {},
   "source": [
    "## Summary\n",
    "\n",
    "The `consensus_pharm` method provides a powerful way to identify common pharmacophoric features across multiple molecules:\n",
    "\n",
    "- **Input**: List of aligned 3D molecules\n",
    "- **Output**: Consensus pharmacophore features (type and centroid position)\n",
    "- **Parameters**:\n",
    "  - `distance_threshold`: Distance in Å for clustering features (default: 2.0)\n",
    "  - `features`: Feature type - 'default', 'rdkit', or custom dictionary\n",
    "\n",
    "This is particularly useful for:\n",
    "1. Structure-based drug design with multiple binding poses\n",
    "2. Ligand-based pharmacophore modeling\n",
    "3. Identifying key interaction points for virtual screening"
   ]
  }
 ],
 "metadata": {
  "kernelspec": {
   "display_name": "Python 3",
   "language": "python",
   "name": "python3"
  },
  "language_info": {
   "codemirror_mode": {
    "name": "ipython",
    "version": 3
   },
   "file_extension": ".py",
   "mimetype": "text/x-python",
   "name": "python",
   "nbconvert_exporter": "python",
   "pygments_lexer": "ipython3",
   "version": "3.9.0"
  }
 },
 "nbformat": 4,
 "nbformat_minor": 4
}
