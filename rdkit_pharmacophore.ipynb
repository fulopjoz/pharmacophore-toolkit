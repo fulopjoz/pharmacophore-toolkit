{
 "cells": [
  {
   "cell_type": "code",
   "id": "initial_id",
   "metadata": {
    "collapsed": true,
    "ExecuteTime": {
     "end_time": "2024-12-12T09:25:02.831206Z",
     "start_time": "2024-12-12T09:25:02.824217Z"
    }
   },
   "source": [
    "import os\n",
    "import collections\n",
    "import time\n",
    "import pandas as pd\n",
    "import nglview as nv\n",
    "from rdkit import Chem, RDConfig\n",
    "from rdkit.Chem import Draw\n",
    "from rdkit.Chem import AllChem"
   ],
   "outputs": [],
   "execution_count": 14
  },
  {
   "metadata": {
    "ExecuteTime": {
     "end_time": "2024-12-12T09:25:02.837011Z",
     "start_time": "2024-12-12T09:25:02.834772Z"
    }
   },
   "cell_type": "code",
   "source": [
    "mol1 = 'dataset/F059-1017_docked.sdf'\n",
    "mol2 = 'dataset/E966-0578_docked.sdf'\n",
    "hit = 'dataset/CDK8_ML_Hit.sdf'"
   ],
   "id": "5012ac0c0ca681e0",
   "outputs": [],
   "execution_count": 15
  },
  {
   "metadata": {
    "ExecuteTime": {
     "end_time": "2024-12-12T09:25:02.850550Z",
     "start_time": "2024-12-12T09:25:02.846979Z"
    }
   },
   "cell_type": "code",
   "source": [
    "supplier = Chem.SDMolSupplier(mol1) # this is an iterator\n",
    "mol_1 = supplier[0]\n",
    "\n",
    "supplier = Chem.SDMolSupplier(mol2) # this is an iterator\n",
    "mol_2 = supplier[0]\n",
    "\n",
    "mols = [mol_1, mol_2]\n",
    "\n",
    "# if mol:\n",
    "#     img = Draw.MolToImage(mol)\n"
   ],
   "id": "bdbf19f11b80ef0c",
   "outputs": [],
   "execution_count": 16
  },
  {
   "metadata": {
    "ExecuteTime": {
     "end_time": "2024-12-12T09:25:02.863033Z",
     "start_time": "2024-12-12T09:25:02.856531Z"
    }
   },
   "cell_type": "code",
   "source": [
    "feature_factory = AllChem.BuildFeatureFactory(os.path.join(RDConfig.RDDataDir,'BaseFeatures.fdef'))\n",
    "feature_factory.GetFeatureFamilies()"
   ],
   "id": "b89ef59d0b4dd336",
   "outputs": [
    {
     "data": {
      "text/plain": [
       "('Donor',\n",
       " 'Acceptor',\n",
       " 'NegIonizable',\n",
       " 'PosIonizable',\n",
       " 'ZnBinder',\n",
       " 'Aromatic',\n",
       " 'Hydrophobe',\n",
       " 'LumpedHydrophobe')"
      ]
     },
     "execution_count": 17,
     "metadata": {},
     "output_type": "execute_result"
    }
   ],
   "execution_count": 17
  },
  {
   "metadata": {
    "ExecuteTime": {
     "end_time": "2024-12-12T09:25:02.873979Z",
     "start_time": "2024-12-12T09:25:02.869458Z"
    }
   },
   "cell_type": "code",
   "source": [
    "features = feature_factory.GetFeaturesForMol(mols[0])\n",
    "print(f\"Number of features: {len(features)}\")"
   ],
   "id": "ab53b824a1151aef",
   "outputs": [
    {
     "name": "stdout",
     "output_type": "stream",
     "text": [
      "Number of features: 13\n"
     ]
    }
   ],
   "execution_count": 18
  },
  {
   "metadata": {
    "ExecuteTime": {
     "end_time": "2024-12-12T09:25:02.888122Z",
     "start_time": "2024-12-12T09:25:02.885686Z"
    }
   },
   "cell_type": "code",
   "source": "features[0].GetFamily()",
   "id": "2f05dd176d57bfcf",
   "outputs": [
    {
     "data": {
      "text/plain": [
       "'Donor'"
      ]
     },
     "execution_count": 19,
     "metadata": {},
     "output_type": "execute_result"
    }
   ],
   "execution_count": 19
  },
  {
   "metadata": {
    "ExecuteTime": {
     "end_time": "2024-12-12T09:25:02.908914Z",
     "start_time": "2024-12-12T09:25:02.906617Z"
    }
   },
   "cell_type": "code",
   "source": [
    "feature_frequency = collections.Counter(sorted([feature.GetFamily() for feature in features]))\n",
    "feature_frequency"
   ],
   "id": "adc7868aaed499bd",
   "outputs": [
    {
     "data": {
      "text/plain": [
       "Counter({'Hydrophobe': 4,\n",
       "         'Acceptor': 3,\n",
       "         'LumpedHydrophobe': 3,\n",
       "         'Aromatic': 2,\n",
       "         'Donor': 1})"
      ]
     },
     "execution_count": 20,
     "metadata": {},
     "output_type": "execute_result"
    }
   ],
   "execution_count": 20
  },
  {
   "metadata": {
    "ExecuteTime": {
     "end_time": "2024-12-12T09:25:02.934299Z",
     "start_time": "2024-12-12T09:25:02.924323Z"
    }
   },
   "cell_type": "code",
   "source": [
    "molecule_feature_frequencies = []\n",
    "for mol in mols:\n",
    "    features = [feature.GetFamily() for feature in feature_factory.GetFeaturesForMol(mol)]\n",
    "    feature_frequency = collections.Counter(features)\n",
    "    molecule_feature_frequencies.append(feature_frequency)\n",
    "\n",
    "feature_frequencies_df = (\n",
    "    pd.DataFrame(\n",
    "        molecule_feature_frequencies,\n",
    "        index=[f\"Mol{i}\" for i, _ in enumerate(mols, 1)],\n",
    "    )\n",
    "    .fillna(0)\n",
    "    .astype(int)\n",
    ")\n",
    "feature_frequencies_df.transpose()"
   ],
   "id": "893addfa465cf4e2",
   "outputs": [
    {
     "data": {
      "text/plain": [
       "                  Mol1  Mol2\n",
       "Donor                1     1\n",
       "Acceptor             3     4\n",
       "Aromatic             2     2\n",
       "Hydrophobe           4     5\n",
       "LumpedHydrophobe     3     2"
      ],
      "text/html": [
       "<div>\n",
       "<style scoped>\n",
       "    .dataframe tbody tr th:only-of-type {\n",
       "        vertical-align: middle;\n",
       "    }\n",
       "\n",
       "    .dataframe tbody tr th {\n",
       "        vertical-align: top;\n",
       "    }\n",
       "\n",
       "    .dataframe thead th {\n",
       "        text-align: right;\n",
       "    }\n",
       "</style>\n",
       "<table border=\"1\" class=\"dataframe\">\n",
       "  <thead>\n",
       "    <tr style=\"text-align: right;\">\n",
       "      <th></th>\n",
       "      <th>Mol1</th>\n",
       "      <th>Mol2</th>\n",
       "    </tr>\n",
       "  </thead>\n",
       "  <tbody>\n",
       "    <tr>\n",
       "      <th>Donor</th>\n",
       "      <td>1</td>\n",
       "      <td>1</td>\n",
       "    </tr>\n",
       "    <tr>\n",
       "      <th>Acceptor</th>\n",
       "      <td>3</td>\n",
       "      <td>4</td>\n",
       "    </tr>\n",
       "    <tr>\n",
       "      <th>Aromatic</th>\n",
       "      <td>2</td>\n",
       "      <td>2</td>\n",
       "    </tr>\n",
       "    <tr>\n",
       "      <th>Hydrophobe</th>\n",
       "      <td>4</td>\n",
       "      <td>5</td>\n",
       "    </tr>\n",
       "    <tr>\n",
       "      <th>LumpedHydrophobe</th>\n",
       "      <td>3</td>\n",
       "      <td>2</td>\n",
       "    </tr>\n",
       "  </tbody>\n",
       "</table>\n",
       "</div>"
      ]
     },
     "execution_count": 21,
     "metadata": {},
     "output_type": "execute_result"
    }
   ],
   "execution_count": 21
  },
  {
   "metadata": {
    "ExecuteTime": {
     "end_time": "2024-12-12T09:25:02.955689Z",
     "start_time": "2024-12-12T09:25:02.953271Z"
    }
   },
   "cell_type": "code",
   "source": [
    "acceptors = []\n",
    "donors = []\n",
    "hydrophobics = []\n",
    "\n",
    "for mol in mols:\n",
    "    acceptors.append(feature_factory.GetFeaturesForMol(mol, includeOnly=\"Acceptor\"))\n",
    "    donors.append(feature_factory.GetFeaturesForMol(mol, includeOnly=\"Donor\"))\n",
    "    hydrophobics.append(feature_factory.GetFeaturesForMol(mol, includeOnly=\"Hydrophobe\"))\n",
    "\n",
    "features = {\n",
    "    \"donors\": donors,\n",
    "    \"acceptors\": acceptors,\n",
    "    \"hydrophobics\": hydrophobics,\n",
    "}"
   ],
   "id": "35c06eea6e00607",
   "outputs": [],
   "execution_count": 22
  },
  {
   "metadata": {
    "ExecuteTime": {
     "end_time": "2024-12-12T09:25:02.975510Z",
     "start_time": "2024-12-12T09:25:02.973789Z"
    }
   },
   "cell_type": "code",
   "source": [
    "feature_colors = {\n",
    "    \"donors\": (0, 0.9, 0),  # Green\n",
    "    \"acceptors\": (0.9, 0, 0),  # Red\n",
    "    \"hydrophobics\": (1, 0.9, 0),  # Yellow\n",
    "}"
   ],
   "id": "51846c47ec2a4d3c",
   "outputs": [],
   "execution_count": 23
  },
  {
   "metadata": {
    "ExecuteTime": {
     "end_time": "2024-12-12T09:36:59.892265Z",
     "start_time": "2024-12-12T09:36:59.885345Z"
    }
   },
   "cell_type": "code",
   "source": [
    "pml_file = 'features1.pml'\n",
    "load_sdf = mol1\n",
    "\n",
    "def colorToHex(rgb):\n",
    "    return f\"[{int(255 * rgb[0])},{int(255 * rgb[1])},{int(255 * rgb[2])}]\"\n",
    "\n",
    "with open(pml_file, \"w\") as f:\n",
    "    f.write(f\"load {load_sdf}\\n\")  # Load the molecule in PyMOL\n",
    "    features = feature_factory.GetFeaturesForMol(mol_1)\n",
    "    print(len(features))\n",
    "    # print(features)\n",
    "    for i, feat in enumerate(features):\n",
    "        type = feat.GetFamily()\n",
    "        if type == \"Acceptor\":\n",
    "            pos = feat.GetPos()  # Feature position\n",
    "            color_hex = colorToHex((0.9, 0, 0))  # Convert to PyMOL-compatible color format\n",
    "            f.write(\n",
    "                f\"pseudoatom feature_{i}, pos=[{pos.x}, {pos.y}, {pos.z}], color=red\\n\"\n",
    "            )\n",
    "        if type == \"Donor\":\n",
    "            pos = feat.GetPos()  # Feature position\n",
    "\n",
    "            color_hex = (0, 0.9, 0)  # Convert to PyMOL-compatible color format\n",
    "            f.write(\n",
    "                f\"pseudoatom feature_{i}, pos=[{pos.x}, {pos.y}, {pos.z}], color=blue\\n\"\n",
    "            )\n",
    "        if type == \"Hydrophobe\":\n",
    "            pos = feat.GetPos()\n",
    "            f.write(f\"pseudoatom feature_{i}, pos=[{pos.x}, {pos.y}, {pos.z}], color=green\\n\"\n",
    "                    )\n",
    "        if type == 'Aromatic':\n",
    "            pos = feat.GetPos()\n",
    "            f.write(f\"pseudoatom feature_{i}, pos=[{pos.x}, {pos.y}, {pos.z}], color=pink\\n\"\n",
    "                    )\n",
    "        if type == 'LumpedHydrophobe':\n",
    "            pos = feat.GetPos()\n",
    "            f.write(f\"pseudoatom feature_{i}, pos=[{pos.x}, {pos.y}, {pos.z}], color=green\\n\"\n",
    "                    )\n",
    "    f.write(\"show spheres, feature_*\\n\")\n",
    "    f.write(\"set sphere_scale, 0.5\\n\")  # Adjust sphere size in PyMOL\n",
    "print(f\"Feature visualization script written to {pml_file}.\")"
   ],
   "id": "b1af582ad7a4cbf3",
   "outputs": [
    {
     "name": "stdout",
     "output_type": "stream",
     "text": [
      "13\n",
      "Feature visualization script written to features1.pml.\n"
     ]
    }
   ],
   "execution_count": 30
  },
  {
   "metadata": {
    "ExecuteTime": {
     "end_time": "2024-12-12T08:24:45.661764Z",
     "start_time": "2024-12-12T08:24:45.659509Z"
    }
   },
   "cell_type": "code",
   "source": [
    "def show_ligands(molecules):\n",
    "    \"\"\"Generate a view of the ligand molecules.\n",
    "\n",
    "    Parameters\n",
    "    -----------\n",
    "    molecules: list of rdkit.Chem.rdchem.Mol\n",
    "\n",
    "    Returns\n",
    "    ----------\n",
    "    nglview.widget.NGLWidget\n",
    "    \"\"\"\n",
    "    view = nv.NGLWidget()\n",
    "    for molecule in molecules:\n",
    "        component = view.add_component(molecule)\n",
    "        time.sleep(0.1)\n",
    "        component.clear()\n",
    "        component.add_ball_and_stick(multipleBond=True)\n",
    "    return view"
   ],
   "id": "e135e9a88ff70542",
   "outputs": [],
   "execution_count": 11
  },
  {
   "metadata": {
    "ExecuteTime": {
     "end_time": "2024-12-12T08:24:45.691116Z",
     "start_time": "2024-12-12T08:24:45.688779Z"
    }
   },
   "cell_type": "code",
   "source": [
    "def visualize_features(\n",
    "    molecules,\n",
    "    features,\n",
    "    feature_type=\"features\",\n",
    "    color=\"yellow\",\n",
    "    sphere_radius=0.5,\n",
    "):\n",
    "    \"\"\"Generate a view of the molecules highlighting the specified feature type.\n",
    "\n",
    "    Parameters\n",
    "    -----------\n",
    "    molecules: list of rdkit.Chem.rdchem.Mol\n",
    "        molecules to be visualized\n",
    "    features: list of tuples of rdkit.Chem.rdMolChemicalFeatures.MolChemicalFeature\n",
    "        extracted features from molecules chosen to be highlighted\n",
    "    feature_type: string, optional\n",
    "        name of the feature to be highlighted\n",
    "    color: string, optional\n",
    "        color used to display the highlighted features\n",
    "    sphere_radius: float, optional\n",
    "        display size of the highlighted features\n",
    "\n",
    "    Returns\n",
    "    ----------\n",
    "    nglview.widget.NGLWidget\n",
    "    \"\"\"\n",
    "    print(f\"Number of {feature_type} in all ligands: {sum([len(i) for i in features])}\")\n",
    "    view = show_ligands(molecules)\n",
    "    for i, feature_set in enumerate(features, 1):\n",
    "        for feature in feature_set:\n",
    "            loc = list(feature.GetPos())\n",
    "            label = f\"{feature_type}_{i}\"\n",
    "            view.shape.add_sphere(loc, color, sphere_radius, label)\n",
    "    return view"
   ],
   "id": "be5bc8980b6ff81d",
   "outputs": [],
   "execution_count": 12
  },
  {
   "metadata": {
    "ExecuteTime": {
     "end_time": "2024-12-12T08:24:45.933231Z",
     "start_time": "2024-12-12T08:24:45.712185Z"
    }
   },
   "cell_type": "code",
   "source": [
    "view = show_ligands(mols)\n",
    "view.render_image(trim=True, factor=2, transparent=True);\n",
    "view"
   ],
   "id": "2001b4d0e3f8dd2f",
   "outputs": [
    {
     "data": {
      "text/plain": [
       "NGLWidget()"
      ],
      "application/vnd.jupyter.widget-view+json": {
       "version_major": 2,
       "version_minor": 0,
       "model_id": "4c93cc7a448d435db9625d9c43a04c46"
      }
     },
     "metadata": {},
     "output_type": "display_data"
    }
   ],
   "execution_count": 13
  }
 ],
 "metadata": {
  "kernelspec": {
   "display_name": "Python 3",
   "language": "python",
   "name": "python3"
  },
  "language_info": {
   "codemirror_mode": {
    "name": "ipython",
    "version": 2
   },
   "file_extension": ".py",
   "mimetype": "text/x-python",
   "name": "python",
   "nbconvert_exporter": "python",
   "pygments_lexer": "ipython2",
   "version": "2.7.6"
  }
 },
 "nbformat": 4,
 "nbformat_minor": 5
}
