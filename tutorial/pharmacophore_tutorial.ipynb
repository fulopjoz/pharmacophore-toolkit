{
 "cells": [
  {
   "metadata": {},
   "cell_type": "markdown",
   "source": [
    "# Build Pharmacophore Model\n",
    "\n",
    "Pharmacophore models can be built using crystal structures, docking poses, or smiles strings. The latter requires the generation of molecules in"
   ],
   "id": "5d7faefe0d2133ad"
  },
  {
   "metadata": {
    "ExecuteTime": {
     "end_time": "2024-12-29T04:21:13.099096Z",
     "start_time": "2024-12-29T04:21:11.124421Z"
    }
   },
   "cell_type": "code",
   "source": [
    "from rdkit import Chem\n",
    "from rdkit.Chem import AllChem\n",
    "import datamol as dm\n",
    "from pharmacophore import Pharmacophore, Draw"
   ],
   "id": "a06965a638ef6bd8",
   "outputs": [],
   "execution_count": 1
  },
  {
   "metadata": {
    "ExecuteTime": {
     "end_time": "2024-12-29T04:21:13.211288Z",
     "start_time": "2024-12-29T04:21:13.105061Z"
    }
   },
   "cell_type": "code",
   "source": [
    "molecules = {\"serotonin\": \"C1=CC2=C(C=C1O)C(=CN2)CCN\",\n",
    "             \"psilocin\": \"CN(C)CCc1c[nH]c2cccc(O)c12\",\n",
    "             \"mescaline\": \"O(c1cc(cc(OC)c1OC)CCN)C\"}\n",
    "\n",
    "mol_smi = [x for x in molecules.values()]\n",
    "mol_name = [x for x in molecules.keys()]\n",
    "\n",
    "mols = [Chem.MolFromSmiles(x) for x in mol_smi]\n",
    "dm.viz.to_image(mols)"
   ],
   "id": "a24bd82fcb0bb11b",
   "outputs": [
    {
     "data": {
      "text/plain": [
       "<IPython.core.display.SVG object>"
      ],
      "image/svg+xml": "<svg xmlns=\"http://www.w3.org/2000/svg\" xmlns:rdkit=\"http://www.rdkit.org/xml\" xmlns:xlink=\"http://www.w3.org/1999/xlink\" version=\"1.1\" baseProfile=\"full\" xml:space=\"preserve\" width=\"900px\" height=\"300px\" viewBox=\"0 0 900 300\">\n<!-- END OF HEADER -->\n<rect style=\"opacity:1.0;fill:#FFFFFF;stroke:none\" width=\"900.0\" height=\"300.0\" x=\"0.0\" y=\"0.0\"> </rect>\n<path class=\"bond-0 atom-0 atom-1\" d=\"M 258.2,148.4 L 236.6,181.8\" style=\"fill:none;fill-rule:evenodd;stroke:#000000;stroke-width:2.0px;stroke-linecap:butt;stroke-linejoin:miter;stroke-opacity:1\"/>\n<path class=\"bond-0 atom-0 atom-1\" d=\"M 251.3,148.1 L 233.4,175.7\" style=\"fill:none;fill-rule:evenodd;stroke:#000000;stroke-width:2.0px;stroke-linecap:butt;stroke-linejoin:miter;stroke-opacity:1\"/>\n<path class=\"bond-1 atom-1 atom-2\" d=\"M 236.6,181.8 L 196.8,179.9\" style=\"fill:none;fill-rule:evenodd;stroke:#000000;stroke-width:2.0px;stroke-linecap:butt;stroke-linejoin:miter;stroke-opacity:1\"/>\n<path class=\"bond-2 atom-2 atom-3\" d=\"M 196.8,179.9 L 178.7,144.5\" style=\"fill:none;fill-rule:evenodd;stroke:#000000;stroke-width:2.0px;stroke-linecap:butt;stroke-linejoin:miter;stroke-opacity:1\"/>\n<path class=\"bond-2 atom-2 atom-3\" d=\"M 200.6,174.1 L 185.5,144.8\" style=\"fill:none;fill-rule:evenodd;stroke:#000000;stroke-width:2.0px;stroke-linecap:butt;stroke-linejoin:miter;stroke-opacity:1\"/>\n<path class=\"bond-3 atom-3 atom-4\" d=\"M 178.7,144.5 L 200.2,111.0\" style=\"fill:none;fill-rule:evenodd;stroke:#000000;stroke-width:2.0px;stroke-linecap:butt;stroke-linejoin:miter;stroke-opacity:1\"/>\n<path class=\"bond-4 atom-4 atom-5\" d=\"M 200.2,111.0 L 240.0,113.0\" style=\"fill:none;fill-rule:evenodd;stroke:#000000;stroke-width:2.0px;stroke-linecap:butt;stroke-linejoin:miter;stroke-opacity:1\"/>\n<path class=\"bond-4 atom-4 atom-5\" d=\"M 203.4,117.2 L 236.2,118.8\" style=\"fill:none;fill-rule:evenodd;stroke:#000000;stroke-width:2.0px;stroke-linecap:butt;stroke-linejoin:miter;stroke-opacity:1\"/>\n<path class=\"bond-5 atom-5 atom-6\" d=\"M 240.0,113.0 L 248.4,99.9\" style=\"fill:none;fill-rule:evenodd;stroke:#000000;stroke-width:2.0px;stroke-linecap:butt;stroke-linejoin:miter;stroke-opacity:1\"/>\n<path class=\"bond-5 atom-5 atom-6\" d=\"M 248.4,99.9 L 256.9,86.7\" style=\"fill:none;fill-rule:evenodd;stroke:#FF0000;stroke-width:2.0px;stroke-linecap:butt;stroke-linejoin:miter;stroke-opacity:1\"/>\n<path class=\"bond-6 atom-3 atom-7\" d=\"M 178.7,144.5 L 139.4,150.9\" style=\"fill:none;fill-rule:evenodd;stroke:#000000;stroke-width:2.0px;stroke-linecap:butt;stroke-linejoin:miter;stroke-opacity:1\"/>\n<path class=\"bond-7 atom-7 atom-8\" d=\"M 139.4,150.9 L 133.3,190.2\" style=\"fill:none;fill-rule:evenodd;stroke:#000000;stroke-width:2.0px;stroke-linecap:butt;stroke-linejoin:miter;stroke-opacity:1\"/>\n<path class=\"bond-7 atom-7 atom-8\" d=\"M 144.6,156.1 L 139.8,186.8\" style=\"fill:none;fill-rule:evenodd;stroke:#000000;stroke-width:2.0px;stroke-linecap:butt;stroke-linejoin:miter;stroke-opacity:1\"/>\n<path class=\"bond-8 atom-8 atom-9\" d=\"M 133.3,190.2 L 148.2,197.7\" style=\"fill:none;fill-rule:evenodd;stroke:#000000;stroke-width:2.0px;stroke-linecap:butt;stroke-linejoin:miter;stroke-opacity:1\"/>\n<path class=\"bond-8 atom-8 atom-9\" d=\"M 148.2,197.7 L 163.2,205.3\" style=\"fill:none;fill-rule:evenodd;stroke:#0000FF;stroke-width:2.0px;stroke-linecap:butt;stroke-linejoin:miter;stroke-opacity:1\"/>\n<path class=\"bond-9 atom-7 atom-10\" d=\"M 139.4,150.9 L 111.1,122.8\" style=\"fill:none;fill-rule:evenodd;stroke:#000000;stroke-width:2.0px;stroke-linecap:butt;stroke-linejoin:miter;stroke-opacity:1\"/>\n<path class=\"bond-10 atom-10 atom-11\" d=\"M 111.1,122.8 L 72.7,133.2\" style=\"fill:none;fill-rule:evenodd;stroke:#000000;stroke-width:2.0px;stroke-linecap:butt;stroke-linejoin:miter;stroke-opacity:1\"/>\n<path class=\"bond-11 atom-11 atom-12\" d=\"M 72.7,133.2 L 61.4,122.0\" style=\"fill:none;fill-rule:evenodd;stroke:#000000;stroke-width:2.0px;stroke-linecap:butt;stroke-linejoin:miter;stroke-opacity:1\"/>\n<path class=\"bond-11 atom-11 atom-12\" d=\"M 61.4,122.0 L 50.1,110.7\" style=\"fill:none;fill-rule:evenodd;stroke:#0000FF;stroke-width:2.0px;stroke-linecap:butt;stroke-linejoin:miter;stroke-opacity:1\"/>\n<path class=\"bond-12 atom-5 atom-0\" d=\"M 240.0,113.0 L 258.2,148.4\" style=\"fill:none;fill-rule:evenodd;stroke:#000000;stroke-width:2.0px;stroke-linecap:butt;stroke-linejoin:miter;stroke-opacity:1\"/>\n<path class=\"bond-13 atom-9 atom-2\" d=\"M 174.4,202.5 L 185.6,191.2\" style=\"fill:none;fill-rule:evenodd;stroke:#0000FF;stroke-width:2.0px;stroke-linecap:butt;stroke-linejoin:miter;stroke-opacity:1\"/>\n<path class=\"bond-13 atom-9 atom-2\" d=\"M 185.6,191.2 L 196.8,179.9\" style=\"fill:none;fill-rule:evenodd;stroke:#000000;stroke-width:2.0px;stroke-linecap:butt;stroke-linejoin:miter;stroke-opacity:1\"/>\n<path d=\"M 257.1,150.1 L 258.2,148.4 L 257.3,146.6\" style=\"fill:none;stroke:#000000;stroke-width:2.0px;stroke-linecap:butt;stroke-linejoin:miter;stroke-opacity:1;\"/>\n<path d=\"M 237.7,180.2 L 236.6,181.8 L 234.6,181.7\" style=\"fill:none;stroke:#000000;stroke-width:2.0px;stroke-linecap:butt;stroke-linejoin:miter;stroke-opacity:1;\"/>\n<path d=\"M 199.1,112.7 L 200.2,111.0 L 202.2,111.1\" style=\"fill:none;stroke:#000000;stroke-width:2.0px;stroke-linecap:butt;stroke-linejoin:miter;stroke-opacity:1;\"/>\n<path d=\"M 133.6,188.2 L 133.3,190.2 L 134.0,190.6\" style=\"fill:none;stroke:#000000;stroke-width:2.0px;stroke-linecap:butt;stroke-linejoin:miter;stroke-opacity:1;\"/>\n<path d=\"M 112.5,124.2 L 111.1,122.8 L 109.2,123.3\" style=\"fill:none;stroke:#000000;stroke-width:2.0px;stroke-linecap:butt;stroke-linejoin:miter;stroke-opacity:1;\"/>\n<path d=\"M 74.6,132.7 L 72.7,133.2 L 72.1,132.7\" style=\"fill:none;stroke:#000000;stroke-width:2.0px;stroke-linecap:butt;stroke-linejoin:miter;stroke-opacity:1;\"/>\n<path class=\"atom-6\" d=\"M 256.4 79.6 Q 256.4 76.9, 257.7 75.3 Q 259.0 73.8, 261.5 73.8 Q 264.0 73.8, 265.4 75.3 Q 266.7 76.9, 266.7 79.6 Q 266.7 82.3, 265.4 83.9 Q 264.0 85.4, 261.5 85.4 Q 259.1 85.4, 257.7 83.9 Q 256.4 82.3, 256.4 79.6 M 261.5 84.1 Q 263.3 84.1, 264.2 83.0 Q 265.1 81.8, 265.1 79.6 Q 265.1 77.4, 264.2 76.2 Q 263.3 75.1, 261.5 75.1 Q 259.8 75.1, 258.9 76.2 Q 258.0 77.3, 258.0 79.6 Q 258.0 81.8, 258.9 83.0 Q 259.8 84.1, 261.5 84.1 \" fill=\"#FF0000\"/>\n<path class=\"atom-6\" d=\"M 268.5 74.0 L 270.0 74.0 L 270.0 78.8 L 275.8 78.8 L 275.8 74.0 L 277.3 74.0 L 277.3 85.2 L 275.8 85.2 L 275.8 80.0 L 270.0 80.0 L 270.0 85.2 L 268.5 85.2 L 268.5 74.0 \" fill=\"#FF0000\"/>\n<path class=\"atom-9\" d=\"M 166.3 202.5 L 170.0 208.5 Q 170.4 209.1, 170.9 210.1 Q 171.5 211.2, 171.6 211.3 L 171.6 202.5 L 173.1 202.5 L 173.1 213.8 L 171.5 213.8 L 167.6 207.2 Q 167.1 206.5, 166.6 205.6 Q 166.1 204.7, 166.0 204.5 L 166.0 213.8 L 164.5 213.8 L 164.5 202.5 L 166.3 202.5 \" fill=\"#0000FF\"/>\n<path class=\"atom-9\" d=\"M 164.4 214.9 L 165.9 214.9 L 165.9 219.7 L 171.7 219.7 L 171.7 214.9 L 173.2 214.9 L 173.2 226.2 L 171.7 226.2 L 171.7 221.0 L 165.9 221.0 L 165.9 226.2 L 164.4 226.2 L 164.4 214.9 \" fill=\"#0000FF\"/>\n<path class=\"atom-12\" d=\"M 22.7 99.5 L 24.2 99.5 L 24.2 104.3 L 30.0 104.3 L 30.0 99.5 L 31.5 99.5 L 31.5 110.8 L 30.0 110.8 L 30.0 105.6 L 24.2 105.6 L 24.2 110.8 L 22.7 110.8 L 22.7 99.5 \" fill=\"#0000FF\"/>\n<path class=\"atom-12\" d=\"M 33.7 110.4 Q 34.0 109.7, 34.7 109.3 Q 35.3 108.9, 36.2 108.9 Q 37.3 108.9, 38.0 109.5 Q 38.6 110.2, 38.6 111.2 Q 38.6 112.3, 37.8 113.4 Q 37.0 114.4, 35.3 115.6 L 38.7 115.6 L 38.7 116.5 L 33.7 116.5 L 33.7 115.8 Q 35.1 114.8, 35.9 114.0 Q 36.8 113.3, 37.2 112.6 Q 37.6 112.0, 37.6 111.3 Q 37.6 110.6, 37.2 110.2 Q 36.8 109.8, 36.2 109.8 Q 35.6 109.8, 35.2 110.0 Q 34.8 110.3, 34.5 110.8 L 33.7 110.4 \" fill=\"#0000FF\"/>\n<path class=\"atom-12\" d=\"M 42.0 99.5 L 45.7 105.5 Q 46.0 106.1, 46.6 107.2 Q 47.2 108.2, 47.2 108.3 L 47.2 99.5 L 48.7 99.5 L 48.7 110.8 L 47.2 110.8 L 43.2 104.3 Q 42.8 103.5, 42.3 102.7 Q 41.8 101.8, 41.7 101.5 L 41.7 110.8 L 40.2 110.8 L 40.2 99.5 L 42.0 99.5 \" fill=\"#0000FF\"/>\n<path class=\"bond-0 atom-0 atom-1\" d=\"M 323.8,166.5 L 338.3,158.2\" style=\"fill:none;fill-rule:evenodd;stroke:#000000;stroke-width:2.0px;stroke-linecap:butt;stroke-linejoin:miter;stroke-opacity:1\"/>\n<path class=\"bond-0 atom-0 atom-1\" d=\"M 338.3,158.2 L 352.9,150.0\" style=\"fill:none;fill-rule:evenodd;stroke:#0000FF;stroke-width:2.0px;stroke-linecap:butt;stroke-linejoin:miter;stroke-opacity:1\"/>\n<path class=\"bond-1 atom-1 atom-2\" d=\"M 358.5,139.9 L 358.6,123.5\" style=\"fill:none;fill-rule:evenodd;stroke:#0000FF;stroke-width:2.0px;stroke-linecap:butt;stroke-linejoin:miter;stroke-opacity:1\"/>\n<path class=\"bond-1 atom-1 atom-2\" d=\"M 358.6,123.5 L 358.8,107.1\" style=\"fill:none;fill-rule:evenodd;stroke:#000000;stroke-width:2.0px;stroke-linecap:butt;stroke-linejoin:miter;stroke-opacity:1\"/>\n<path class=\"bond-2 atom-1 atom-3\" d=\"M 364.0,150.2 L 378.4,158.6\" style=\"fill:none;fill-rule:evenodd;stroke:#0000FF;stroke-width:2.0px;stroke-linecap:butt;stroke-linejoin:miter;stroke-opacity:1\"/>\n<path class=\"bond-2 atom-1 atom-3\" d=\"M 378.4,158.6 L 392.8,167.1\" style=\"fill:none;fill-rule:evenodd;stroke:#000000;stroke-width:2.0px;stroke-linecap:butt;stroke-linejoin:miter;stroke-opacity:1\"/>\n<path class=\"bond-3 atom-3 atom-4\" d=\"M 392.8,167.1 L 427.4,147.4\" style=\"fill:none;fill-rule:evenodd;stroke:#000000;stroke-width:2.0px;stroke-linecap:butt;stroke-linejoin:miter;stroke-opacity:1\"/>\n<path class=\"bond-4 atom-4 atom-5\" d=\"M 427.4,147.4 L 461.7,167.6\" style=\"fill:none;fill-rule:evenodd;stroke:#000000;stroke-width:2.0px;stroke-linecap:butt;stroke-linejoin:miter;stroke-opacity:1\"/>\n<path class=\"bond-5 atom-5 atom-6\" d=\"M 461.7,167.6 L 465.5,207.3\" style=\"fill:none;fill-rule:evenodd;stroke:#000000;stroke-width:2.0px;stroke-linecap:butt;stroke-linejoin:miter;stroke-opacity:1\"/>\n<path class=\"bond-5 atom-5 atom-6\" d=\"M 468.0,171.4 L 471.0,202.4\" style=\"fill:none;fill-rule:evenodd;stroke:#000000;stroke-width:2.0px;stroke-linecap:butt;stroke-linejoin:miter;stroke-opacity:1\"/>\n<path class=\"bond-6 atom-6 atom-7\" d=\"M 465.5,207.3 L 482.1,210.9\" style=\"fill:none;fill-rule:evenodd;stroke:#000000;stroke-width:2.0px;stroke-linecap:butt;stroke-linejoin:miter;stroke-opacity:1\"/>\n<path class=\"bond-6 atom-6 atom-7\" d=\"M 482.1,210.9 L 498.8,214.6\" style=\"fill:none;fill-rule:evenodd;stroke:#0000FF;stroke-width:2.0px;stroke-linecap:butt;stroke-linejoin:miter;stroke-opacity:1\"/>\n<path class=\"bond-7 atom-7 atom-8\" d=\"M 508.5,208.9 L 516.5,195.2\" style=\"fill:none;fill-rule:evenodd;stroke:#0000FF;stroke-width:2.0px;stroke-linecap:butt;stroke-linejoin:miter;stroke-opacity:1\"/>\n<path class=\"bond-7 atom-7 atom-8\" d=\"M 516.5,195.2 L 524.6,181.6\" style=\"fill:none;fill-rule:evenodd;stroke:#000000;stroke-width:2.0px;stroke-linecap:butt;stroke-linejoin:miter;stroke-opacity:1\"/>\n<path class=\"bond-8 atom-8 atom-9\" d=\"M 524.6,181.6 L 563.6,173.6\" style=\"fill:none;fill-rule:evenodd;stroke:#000000;stroke-width:2.0px;stroke-linecap:butt;stroke-linejoin:miter;stroke-opacity:1\"/>\n<path class=\"bond-8 atom-8 atom-9\" d=\"M 526.8,175.0 L 559.0,168.5\" style=\"fill:none;fill-rule:evenodd;stroke:#000000;stroke-width:2.0px;stroke-linecap:butt;stroke-linejoin:miter;stroke-opacity:1\"/>\n<path class=\"bond-9 atom-9 atom-10\" d=\"M 563.6,173.6 L 576.2,135.9\" style=\"fill:none;fill-rule:evenodd;stroke:#000000;stroke-width:2.0px;stroke-linecap:butt;stroke-linejoin:miter;stroke-opacity:1\"/>\n<path class=\"bond-10 atom-10 atom-11\" d=\"M 576.2,135.9 L 549.8,106.1\" style=\"fill:none;fill-rule:evenodd;stroke:#000000;stroke-width:2.0px;stroke-linecap:butt;stroke-linejoin:miter;stroke-opacity:1\"/>\n<path class=\"bond-10 atom-10 atom-11\" d=\"M 569.4,137.2 L 547.6,112.6\" style=\"fill:none;fill-rule:evenodd;stroke:#000000;stroke-width:2.0px;stroke-linecap:butt;stroke-linejoin:miter;stroke-opacity:1\"/>\n<path class=\"bond-11 atom-11 atom-12\" d=\"M 549.8,106.1 L 510.8,114.0\" style=\"fill:none;fill-rule:evenodd;stroke:#000000;stroke-width:2.0px;stroke-linecap:butt;stroke-linejoin:miter;stroke-opacity:1\"/>\n<path class=\"bond-12 atom-12 atom-13\" d=\"M 510.8,114.0 L 500.8,102.7\" style=\"fill:none;fill-rule:evenodd;stroke:#000000;stroke-width:2.0px;stroke-linecap:butt;stroke-linejoin:miter;stroke-opacity:1\"/>\n<path class=\"bond-12 atom-12 atom-13\" d=\"M 500.8,102.7 L 490.8,91.4\" style=\"fill:none;fill-rule:evenodd;stroke:#FF0000;stroke-width:2.0px;stroke-linecap:butt;stroke-linejoin:miter;stroke-opacity:1\"/>\n<path class=\"bond-13 atom-12 atom-14\" d=\"M 510.8,114.0 L 498.2,151.8\" style=\"fill:none;fill-rule:evenodd;stroke:#000000;stroke-width:2.0px;stroke-linecap:butt;stroke-linejoin:miter;stroke-opacity:1\"/>\n<path class=\"bond-13 atom-12 atom-14\" d=\"M 515.4,119.2 L 504.9,150.4\" style=\"fill:none;fill-rule:evenodd;stroke:#000000;stroke-width:2.0px;stroke-linecap:butt;stroke-linejoin:miter;stroke-opacity:1\"/>\n<path class=\"bond-14 atom-14 atom-5\" d=\"M 498.2,151.8 L 461.7,167.6\" style=\"fill:none;fill-rule:evenodd;stroke:#000000;stroke-width:2.0px;stroke-linecap:butt;stroke-linejoin:miter;stroke-opacity:1\"/>\n<path class=\"bond-15 atom-14 atom-8\" d=\"M 498.2,151.8 L 524.6,181.6\" style=\"fill:none;fill-rule:evenodd;stroke:#000000;stroke-width:2.0px;stroke-linecap:butt;stroke-linejoin:miter;stroke-opacity:1\"/>\n<path d=\"M 392.0,166.6 L 392.8,167.1 L 394.5,166.1\" style=\"fill:none;stroke:#000000;stroke-width:2.0px;stroke-linecap:butt;stroke-linejoin:miter;stroke-opacity:1;\"/>\n<path d=\"M 425.7,148.4 L 427.4,147.4 L 429.1,148.5\" style=\"fill:none;stroke:#000000;stroke-width:2.0px;stroke-linecap:butt;stroke-linejoin:miter;stroke-opacity:1;\"/>\n<path d=\"M 465.3,205.3 L 465.5,207.3 L 466.3,207.4\" style=\"fill:none;stroke:#000000;stroke-width:2.0px;stroke-linecap:butt;stroke-linejoin:miter;stroke-opacity:1;\"/>\n<path d=\"M 561.6,174.0 L 563.6,173.6 L 564.2,171.7\" style=\"fill:none;stroke:#000000;stroke-width:2.0px;stroke-linecap:butt;stroke-linejoin:miter;stroke-opacity:1;\"/>\n<path d=\"M 575.6,137.8 L 576.2,135.9 L 574.9,134.4\" style=\"fill:none;stroke:#000000;stroke-width:2.0px;stroke-linecap:butt;stroke-linejoin:miter;stroke-opacity:1;\"/>\n<path d=\"M 551.1,107.6 L 549.8,106.1 L 547.9,106.5\" style=\"fill:none;stroke:#000000;stroke-width:2.0px;stroke-linecap:butt;stroke-linejoin:miter;stroke-opacity:1;\"/>\n<path class=\"atom-1\" d=\"M 356.0 141.2 L 359.7 147.2 Q 360.0 147.8, 360.6 148.9 Q 361.2 149.9, 361.2 150.0 L 361.2 141.2 L 362.7 141.2 L 362.7 152.5 L 361.2 152.5 L 357.2 146.0 Q 356.8 145.2, 356.3 144.3 Q 355.8 143.5, 355.6 143.2 L 355.6 152.5 L 354.2 152.5 L 354.2 141.2 L 356.0 141.2 \" fill=\"#0000FF\"/>\n<path class=\"atom-7\" d=\"M 501.9 210.2 L 505.6 216.2 Q 505.9 216.8, 506.5 217.8 Q 507.1 218.9, 507.2 219.0 L 507.2 210.2 L 508.6 210.2 L 508.6 221.5 L 507.1 221.5 L 503.1 215.0 Q 502.7 214.2, 502.2 213.3 Q 501.7 212.5, 501.6 212.2 L 501.6 221.5 L 500.1 221.5 L 500.1 210.2 L 501.9 210.2 \" fill=\"#0000FF\"/>\n<path class=\"atom-7\" d=\"M 510.8 210.2 L 512.4 210.2 L 512.4 215.0 L 518.1 215.0 L 518.1 210.2 L 519.7 210.2 L 519.7 221.5 L 518.1 221.5 L 518.1 216.3 L 512.4 216.3 L 512.4 221.5 L 510.8 221.5 L 510.8 210.2 \" fill=\"#0000FF\"/>\n<path class=\"atom-13\" d=\"M 468.1 78.6 L 469.6 78.6 L 469.6 83.4 L 475.4 83.4 L 475.4 78.6 L 476.9 78.6 L 476.9 89.9 L 475.4 89.9 L 475.4 84.7 L 469.6 84.7 L 469.6 89.9 L 468.1 89.9 L 468.1 78.6 \" fill=\"#FF0000\"/>\n<path class=\"atom-13\" d=\"M 479.2 84.2 Q 479.2 81.5, 480.6 80.0 Q 481.9 78.5, 484.4 78.5 Q 486.9 78.5, 488.3 80.0 Q 489.6 81.5, 489.6 84.2 Q 489.6 87.0, 488.2 88.5 Q 486.9 90.1, 484.4 90.1 Q 481.9 90.1, 480.6 88.5 Q 479.2 87.0, 479.2 84.2 M 484.4 88.8 Q 486.1 88.8, 487.1 87.7 Q 488.0 86.5, 488.0 84.2 Q 488.0 82.0, 487.1 80.9 Q 486.1 79.8, 484.4 79.8 Q 482.7 79.8, 481.8 80.9 Q 480.8 82.0, 480.8 84.2 Q 480.8 86.5, 481.8 87.7 Q 482.7 88.8, 484.4 88.8 \" fill=\"#FF0000\"/>\n<path class=\"bond-0 atom-0 atom-1\" d=\"M 828.3,195.7 L 817.9,184.6\" style=\"fill:none;fill-rule:evenodd;stroke:#FF0000;stroke-width:2.0px;stroke-linecap:butt;stroke-linejoin:miter;stroke-opacity:1\"/>\n<path class=\"bond-0 atom-0 atom-1\" d=\"M 817.9,184.6 L 807.5,173.6\" style=\"fill:none;fill-rule:evenodd;stroke:#000000;stroke-width:2.0px;stroke-linecap:butt;stroke-linejoin:miter;stroke-opacity:1\"/>\n<path class=\"bond-1 atom-1 atom-2\" d=\"M 807.5,173.6 L 768.7,182.7\" style=\"fill:none;fill-rule:evenodd;stroke:#000000;stroke-width:2.0px;stroke-linecap:butt;stroke-linejoin:miter;stroke-opacity:1\"/>\n<path class=\"bond-1 atom-1 atom-2\" d=\"M 802.8,168.6 L 770.7,176.1\" style=\"fill:none;fill-rule:evenodd;stroke:#000000;stroke-width:2.0px;stroke-linecap:butt;stroke-linejoin:miter;stroke-opacity:1\"/>\n<path class=\"bond-2 atom-2 atom-3\" d=\"M 768.7,182.7 L 741.5,153.7\" style=\"fill:none;fill-rule:evenodd;stroke:#000000;stroke-width:2.0px;stroke-linecap:butt;stroke-linejoin:miter;stroke-opacity:1\"/>\n<path class=\"bond-3 atom-3 atom-4\" d=\"M 741.5,153.7 L 753.0,115.6\" style=\"fill:none;fill-rule:evenodd;stroke:#000000;stroke-width:2.0px;stroke-linecap:butt;stroke-linejoin:miter;stroke-opacity:1\"/>\n<path class=\"bond-3 atom-3 atom-4\" d=\"M 748.2,152.1 L 757.7,120.6\" style=\"fill:none;fill-rule:evenodd;stroke:#000000;stroke-width:2.0px;stroke-linecap:butt;stroke-linejoin:miter;stroke-opacity:1\"/>\n<path class=\"bond-4 atom-4 atom-5\" d=\"M 753.0,115.6 L 791.8,106.5\" style=\"fill:none;fill-rule:evenodd;stroke:#000000;stroke-width:2.0px;stroke-linecap:butt;stroke-linejoin:miter;stroke-opacity:1\"/>\n<path class=\"bond-5 atom-5 atom-6\" d=\"M 791.8,106.5 L 796.4,91.0\" style=\"fill:none;fill-rule:evenodd;stroke:#000000;stroke-width:2.0px;stroke-linecap:butt;stroke-linejoin:miter;stroke-opacity:1\"/>\n<path class=\"bond-5 atom-5 atom-6\" d=\"M 796.4,91.0 L 801.1,75.6\" style=\"fill:none;fill-rule:evenodd;stroke:#FF0000;stroke-width:2.0px;stroke-linecap:butt;stroke-linejoin:miter;stroke-opacity:1\"/>\n<path class=\"bond-6 atom-6 atom-7\" d=\"M 809.7,66.9 L 825.9,63.1\" style=\"fill:none;fill-rule:evenodd;stroke:#FF0000;stroke-width:2.0px;stroke-linecap:butt;stroke-linejoin:miter;stroke-opacity:1\"/>\n<path class=\"bond-6 atom-6 atom-7\" d=\"M 825.9,63.1 L 842.0,59.3\" style=\"fill:none;fill-rule:evenodd;stroke:#000000;stroke-width:2.0px;stroke-linecap:butt;stroke-linejoin:miter;stroke-opacity:1\"/>\n<path class=\"bond-7 atom-5 atom-8\" d=\"M 791.8,106.5 L 819.0,135.5\" style=\"fill:none;fill-rule:evenodd;stroke:#000000;stroke-width:2.0px;stroke-linecap:butt;stroke-linejoin:miter;stroke-opacity:1\"/>\n<path class=\"bond-7 atom-5 atom-8\" d=\"M 789.8,113.1 L 812.3,137.1\" style=\"fill:none;fill-rule:evenodd;stroke:#000000;stroke-width:2.0px;stroke-linecap:butt;stroke-linejoin:miter;stroke-opacity:1\"/>\n<path class=\"bond-8 atom-8 atom-9\" d=\"M 819.0,135.5 L 835.1,131.7\" style=\"fill:none;fill-rule:evenodd;stroke:#000000;stroke-width:2.0px;stroke-linecap:butt;stroke-linejoin:miter;stroke-opacity:1\"/>\n<path class=\"bond-8 atom-8 atom-9\" d=\"M 835.1,131.7 L 851.3,127.9\" style=\"fill:none;fill-rule:evenodd;stroke:#FF0000;stroke-width:2.0px;stroke-linecap:butt;stroke-linejoin:miter;stroke-opacity:1\"/>\n<path class=\"bond-9 atom-9 atom-10\" d=\"M 864.2,133.3 L 874.6,144.4\" style=\"fill:none;fill-rule:evenodd;stroke:#FF0000;stroke-width:2.0px;stroke-linecap:butt;stroke-linejoin:miter;stroke-opacity:1\"/>\n<path class=\"bond-9 atom-9 atom-10\" d=\"M 874.6,144.4 L 885.0,155.4\" style=\"fill:none;fill-rule:evenodd;stroke:#000000;stroke-width:2.0px;stroke-linecap:butt;stroke-linejoin:miter;stroke-opacity:1\"/>\n<path class=\"bond-10 atom-3 atom-11\" d=\"M 741.5,153.7 L 702.8,162.8\" style=\"fill:none;fill-rule:evenodd;stroke:#000000;stroke-width:2.0px;stroke-linecap:butt;stroke-linejoin:miter;stroke-opacity:1\"/>\n<path class=\"bond-11 atom-11 atom-12\" d=\"M 702.8,162.8 L 675.5,133.7\" style=\"fill:none;fill-rule:evenodd;stroke:#000000;stroke-width:2.0px;stroke-linecap:butt;stroke-linejoin:miter;stroke-opacity:1\"/>\n<path class=\"bond-12 atom-12 atom-13\" d=\"M 675.5,133.7 L 658.9,137.6\" style=\"fill:none;fill-rule:evenodd;stroke:#000000;stroke-width:2.0px;stroke-linecap:butt;stroke-linejoin:miter;stroke-opacity:1\"/>\n<path class=\"bond-12 atom-12 atom-13\" d=\"M 658.9,137.6 L 642.3,141.5\" style=\"fill:none;fill-rule:evenodd;stroke:#0000FF;stroke-width:2.0px;stroke-linecap:butt;stroke-linejoin:miter;stroke-opacity:1\"/>\n<path class=\"bond-13 atom-0 atom-14\" d=\"M 832.6,209.8 L 827.9,225.3\" style=\"fill:none;fill-rule:evenodd;stroke:#FF0000;stroke-width:2.0px;stroke-linecap:butt;stroke-linejoin:miter;stroke-opacity:1\"/>\n<path class=\"bond-13 atom-0 atom-14\" d=\"M 827.9,225.3 L 823.2,240.7\" style=\"fill:none;fill-rule:evenodd;stroke:#000000;stroke-width:2.0px;stroke-linecap:butt;stroke-linejoin:miter;stroke-opacity:1\"/>\n<path class=\"bond-14 atom-8 atom-1\" d=\"M 819.0,135.5 L 807.5,173.6\" style=\"fill:none;fill-rule:evenodd;stroke:#000000;stroke-width:2.0px;stroke-linecap:butt;stroke-linejoin:miter;stroke-opacity:1\"/>\n<path d=\"M 770.7,182.2 L 768.7,182.7 L 767.4,181.2\" style=\"fill:none;stroke:#000000;stroke-width:2.0px;stroke-linecap:butt;stroke-linejoin:miter;stroke-opacity:1;\"/>\n<path d=\"M 752.4,117.5 L 753.0,115.6 L 754.9,115.1\" style=\"fill:none;stroke:#000000;stroke-width:2.0px;stroke-linecap:butt;stroke-linejoin:miter;stroke-opacity:1;\"/>\n<path d=\"M 704.7,162.3 L 702.8,162.8 L 701.4,161.3\" style=\"fill:none;stroke:#000000;stroke-width:2.0px;stroke-linecap:butt;stroke-linejoin:miter;stroke-opacity:1;\"/>\n<path d=\"M 676.9,135.2 L 675.5,133.7 L 674.7,133.9\" style=\"fill:none;stroke:#000000;stroke-width:2.0px;stroke-linecap:butt;stroke-linejoin:miter;stroke-opacity:1;\"/>\n<path class=\"atom-0\" d=\"M 829.6 202.6 Q 829.6 199.9, 830.9 198.4 Q 832.2 196.9, 834.7 196.9 Q 837.2 196.9, 838.6 198.4 Q 839.9 199.9, 839.9 202.6 Q 839.9 205.4, 838.6 206.9 Q 837.2 208.5, 834.7 208.5 Q 832.3 208.5, 830.9 206.9 Q 829.6 205.4, 829.6 202.6 M 834.7 207.2 Q 836.5 207.2, 837.4 206.1 Q 838.3 204.9, 838.3 202.6 Q 838.3 200.4, 837.4 199.3 Q 836.5 198.2, 834.7 198.2 Q 833.0 198.2, 832.1 199.3 Q 831.2 200.4, 831.2 202.6 Q 831.2 204.9, 832.1 206.1 Q 833.0 207.2, 834.7 207.2 \" fill=\"#FF0000\"/>\n<path class=\"atom-6\" d=\"M 798.1 68.4 Q 798.1 65.7, 799.4 64.2 Q 800.8 62.7, 803.3 62.7 Q 805.8 62.7, 807.1 64.2 Q 808.4 65.7, 808.4 68.4 Q 808.4 71.1, 807.1 72.7 Q 805.7 74.3, 803.3 74.3 Q 800.8 74.3, 799.4 72.7 Q 798.1 71.2, 798.1 68.4 M 803.3 73.0 Q 805.0 73.0, 805.9 71.8 Q 806.8 70.7, 806.8 68.4 Q 806.8 66.2, 805.9 65.1 Q 805.0 63.9, 803.3 63.9 Q 801.5 63.9, 800.6 65.1 Q 799.7 66.2, 799.7 68.4 Q 799.7 70.7, 800.6 71.8 Q 801.5 73.0, 803.3 73.0 \" fill=\"#FF0000\"/>\n<path class=\"atom-9\" d=\"M 852.6 126.4 Q 852.6 123.7, 853.9 122.2 Q 855.3 120.7, 857.8 120.7 Q 860.3 120.7, 861.6 122.2 Q 862.9 123.7, 862.9 126.4 Q 862.9 129.2, 861.6 130.7 Q 860.2 132.3, 857.8 132.3 Q 855.3 132.3, 853.9 130.7 Q 852.6 129.2, 852.6 126.4 M 857.8 131.0 Q 859.5 131.0, 860.4 129.9 Q 861.3 128.7, 861.3 126.4 Q 861.3 124.2, 860.4 123.1 Q 859.5 122.0, 857.8 122.0 Q 856.0 122.0, 855.1 123.1 Q 854.2 124.2, 854.2 126.4 Q 854.2 128.7, 855.1 129.9 Q 856.0 131.0, 857.8 131.0 \" fill=\"#FF0000\"/>\n<path class=\"atom-13\" d=\"M 615.0 137.2 L 616.5 137.2 L 616.5 142.0 L 622.3 142.0 L 622.3 137.2 L 623.8 137.2 L 623.8 148.5 L 622.3 148.5 L 622.3 143.3 L 616.5 143.3 L 616.5 148.5 L 615.0 148.5 L 615.0 137.2 \" fill=\"#0000FF\"/>\n<path class=\"atom-13\" d=\"M 626.0 148.1 Q 626.3 147.4, 627.0 147.0 Q 627.6 146.6, 628.5 146.6 Q 629.6 146.6, 630.3 147.2 Q 630.9 147.8, 630.9 148.9 Q 630.9 150.0, 630.1 151.0 Q 629.3 152.0, 627.6 153.3 L 631.0 153.3 L 631.0 154.1 L 626.0 154.1 L 626.0 153.4 Q 627.4 152.4, 628.2 151.7 Q 629.0 150.9, 629.4 150.3 Q 629.8 149.6, 629.8 148.9 Q 629.8 148.2, 629.5 147.8 Q 629.1 147.4, 628.5 147.4 Q 627.9 147.4, 627.5 147.7 Q 627.1 147.9, 626.8 148.4 L 626.0 148.1 \" fill=\"#0000FF\"/>\n<path class=\"atom-13\" d=\"M 634.3 137.2 L 638.0 143.2 Q 638.3 143.8, 638.9 144.8 Q 639.5 145.9, 639.5 146.0 L 639.5 137.2 L 641.0 137.2 L 641.0 148.5 L 639.5 148.5 L 635.5 141.9 Q 635.1 141.2, 634.6 140.3 Q 634.1 139.4, 633.9 139.2 L 633.9 148.5 L 632.5 148.5 L 632.5 137.2 L 634.3 137.2 \" fill=\"#0000FF\"/>\n</svg>"
     },
     "execution_count": 2,
     "metadata": {},
     "output_type": "execute_result"
    }
   ],
   "execution_count": 2
  },
  {
   "metadata": {
    "ExecuteTime": {
     "end_time": "2024-12-29T04:21:13.306311Z",
     "start_time": "2024-12-29T04:21:13.278543Z"
    }
   },
   "cell_type": "code",
   "source": [
    "mols = [Chem.AddHs(m) for m in mols]\n",
    "ps = AllChem.ETKDGv3()\n",
    "ps.randomSeed = 42  # we seed the RNG so that this is reproducible\n",
    "for m in mols:\n",
    "    AllChem.EmbedMolecule(m,ps)"
   ],
   "id": "922341a5280d4fea",
   "outputs": [],
   "execution_count": 3
  },
  {
   "metadata": {
    "ExecuteTime": {
     "end_time": "2024-12-29T04:21:13.322846Z",
     "start_time": "2024-12-29T04:21:13.318926Z"
    }
   },
   "cell_type": "code",
   "source": [
    "for mol, name in zip(mols, mol_name):\n",
    "    w = Chem.SDWriter(f\"data/{name}.sdf\")\n",
    "    w.write(mol)\n",
    "    w.close()"
   ],
   "id": "e3189a193a16b58b",
   "outputs": [],
   "execution_count": 4
  },
  {
   "metadata": {
    "ExecuteTime": {
     "end_time": "2024-12-29T04:21:13.329340Z",
     "start_time": "2024-12-29T04:21:13.327410Z"
    }
   },
   "cell_type": "code",
   "source": "mols_noH = [Chem.RemoveHs(m) for m in mols]",
   "id": "2457a8b4f035526c",
   "outputs": [],
   "execution_count": 5
  },
  {
   "metadata": {
    "ExecuteTime": {
     "end_time": "2024-12-29T04:21:13.344478Z",
     "start_time": "2024-12-29T04:21:13.334137Z"
    }
   },
   "cell_type": "code",
   "source": "mols_noH[1]",
   "id": "53105a6256eff2",
   "outputs": [
    {
     "data": {
      "text/plain": [
       "<rdkit.Chem.rdchem.Mol at 0x147ab1af0>"
      ],
      "image/png": "[encoded data removed]"
     },
     "execution_count": 6,
     "metadata": {},
     "output_type": "execute_result"
    }
   ],
   "execution_count": 6
  },
  {
   "metadata": {},
   "cell_type": "markdown",
   "source": [
    "## Generated Pharmacophores\n",
    "Generate a DataFrame containing pharmacophores for a given model. Table is used to quickly assess differences between given molecules"
   ],
   "id": "4908397ae14b9bad"
  },
  {
   "metadata": {
    "ExecuteTime": {
     "end_time": "2024-12-29T04:21:13.408835Z",
     "start_time": "2024-12-29T04:21:13.359345Z"
    }
   },
   "cell_type": "code",
   "source": [
    "pharm = Pharmacophore()\n",
    "\n",
    "df = pharm.to_df(mols, mol_name, features='pharmacophore')\n",
    "df"
   ],
   "id": "a655eeb26d05ebfb",
   "outputs": [
    {
     "data": {
      "text/plain": [
       "            serotonin  psilocin  mescaline\n",
       "Donor               3         2          1\n",
       "Aromatic            2         2          1\n",
       "Acceptor            0         1          3\n",
       "Hydrophobe          0         3          3"
      ],
      "text/html": [
       "<div>\n",
       "<style scoped>\n",
       "    .dataframe tbody tr th:only-of-type {\n",
       "        vertical-align: middle;\n",
       "    }\n",
       "\n",
       "    .dataframe tbody tr th {\n",
       "        vertical-align: top;\n",
       "    }\n",
       "\n",
       "    .dataframe thead th {\n",
       "        text-align: right;\n",
       "    }\n",
       "</style>\n",
       "<table border=\"1\" class=\"dataframe\">\n",
       "  <thead>\n",
       "    <tr style=\"text-align: right;\">\n",
       "      <th></th>\n",
       "      <th>serotonin</th>\n",
       "      <th>psilocin</th>\n",
       "      <th>mescaline</th>\n",
       "    </tr>\n",
       "  </thead>\n",
       "  <tbody>\n",
       "    <tr>\n",
       "      <th>Donor</th>\n",
       "      <td>3</td>\n",
       "      <td>2</td>\n",
       "      <td>1</td>\n",
       "    </tr>\n",
       "    <tr>\n",
       "      <th>Aromatic</th>\n",
       "      <td>2</td>\n",
       "      <td>2</td>\n",
       "      <td>1</td>\n",
       "    </tr>\n",
       "    <tr>\n",
       "      <th>Acceptor</th>\n",
       "      <td>0</td>\n",
       "      <td>1</td>\n",
       "      <td>3</td>\n",
       "    </tr>\n",
       "    <tr>\n",
       "      <th>Hydrophobe</th>\n",
       "      <td>0</td>\n",
       "      <td>3</td>\n",
       "      <td>3</td>\n",
       "    </tr>\n",
       "  </tbody>\n",
       "</table>\n",
       "</div>"
      ]
     },
     "execution_count": 7,
     "metadata": {},
     "output_type": "execute_result"
    }
   ],
   "execution_count": 7
  },
  {
   "metadata": {
    "ExecuteTime": {
     "end_time": "2024-12-29T04:21:13.458977Z",
     "start_time": "2024-12-29T04:21:13.415514Z"
    }
   },
   "cell_type": "code",
   "source": [
    "df = pharm.to_df(mols_noH, mol_name, features='pharmacophore')\n",
    "df"
   ],
   "id": "7c83fd5ee324c0f3",
   "outputs": [
    {
     "data": {
      "text/plain": [
       "            serotonin  psilocin  mescaline\n",
       "Donor               3         2          1\n",
       "Aromatic            2         2          1\n",
       "Acceptor            0         1          3\n",
       "Hydrophobe          0         3          3"
      ],
      "text/html": [
       "<div>\n",
       "<style scoped>\n",
       "    .dataframe tbody tr th:only-of-type {\n",
       "        vertical-align: middle;\n",
       "    }\n",
       "\n",
       "    .dataframe tbody tr th {\n",
       "        vertical-align: top;\n",
       "    }\n",
       "\n",
       "    .dataframe thead th {\n",
       "        text-align: right;\n",
       "    }\n",
       "</style>\n",
       "<table border=\"1\" class=\"dataframe\">\n",
       "  <thead>\n",
       "    <tr style=\"text-align: right;\">\n",
       "      <th></th>\n",
       "      <th>serotonin</th>\n",
       "      <th>psilocin</th>\n",
       "      <th>mescaline</th>\n",
       "    </tr>\n",
       "  </thead>\n",
       "  <tbody>\n",
       "    <tr>\n",
       "      <th>Donor</th>\n",
       "      <td>3</td>\n",
       "      <td>2</td>\n",
       "      <td>1</td>\n",
       "    </tr>\n",
       "    <tr>\n",
       "      <th>Aromatic</th>\n",
       "      <td>2</td>\n",
       "      <td>2</td>\n",
       "      <td>1</td>\n",
       "    </tr>\n",
       "    <tr>\n",
       "      <th>Acceptor</th>\n",
       "      <td>0</td>\n",
       "      <td>1</td>\n",
       "      <td>3</td>\n",
       "    </tr>\n",
       "    <tr>\n",
       "      <th>Hydrophobe</th>\n",
       "      <td>0</td>\n",
       "      <td>3</td>\n",
       "      <td>3</td>\n",
       "    </tr>\n",
       "  </tbody>\n",
       "</table>\n",
       "</div>"
      ]
     },
     "execution_count": 8,
     "metadata": {},
     "output_type": "execute_result"
    }
   ],
   "execution_count": 8
  },
  {
   "metadata": {},
   "cell_type": "markdown",
   "source": "Output default features. Can be used to output features associated with rdkit using the \"features\" param.",
   "id": "2d764c3c3d2e9573"
  },
  {
   "metadata": {
    "ExecuteTime": {
     "end_time": "2024-12-29T04:21:13.477832Z",
     "start_time": "2024-12-29T04:21:13.475876Z"
    }
   },
   "cell_type": "code",
   "source": "print(pharm.feature_types())",
   "id": "2215159beb5083e5",
   "outputs": [
    {
     "name": "stdout",
     "output_type": "stream",
     "text": [
      "Default features: \n",
      "('Donor', 'Acceptor', 'Aromatic', 'Hydrophobe')\n"
     ]
    }
   ],
   "execution_count": 9
  },
  {
   "metadata": {},
   "cell_type": "markdown",
   "source": "Calculate pharmacophore features for a given molecule. Can use 2 types. The default model or the model using default rdkit features.",
   "id": "e1539b1ec6e5d02b"
  },
  {
   "metadata": {
    "ExecuteTime": {
     "end_time": "2024-12-29T04:21:13.599013Z",
     "start_time": "2024-12-29T04:21:13.581943Z"
    }
   },
   "cell_type": "code",
   "source": [
    "# default\n",
    "pharma = pharm.calc_pharm(mols_noH[0])\n",
    "pharma"
   ],
   "id": "fb4682d21328d590",
   "outputs": [
    {
     "data": {
      "text/plain": [
       "[['Donor', (9,), -0.9046174520168839, -2.235699615827842, 0.13645934200480064],\n",
       " ['Donor', (12,), 2.949925200279259, -0.15648413497184244, 1.2254205073233995],\n",
       " ['Donor', (6,), -2.5995394084260526, 2.931207478597561, -0.5905278269049035],\n",
       " ['Aromatic',\n",
       "  (0, 1, 2, 3, 4, 5),\n",
       "  -1.8583650464904398,\n",
       "  0.29269000714402976,\n",
       "  -0.18710545719859337],\n",
       " ['Aromatic',\n",
       "  (2, 3, 7, 8, 9),\n",
       "  -0.384216675975982,\n",
       "  -1.2654866328983938,\n",
       "  -0.2124065266290939]]"
      ]
     },
     "execution_count": 10,
     "metadata": {},
     "output_type": "execute_result"
    }
   ],
   "execution_count": 10
  },
  {
   "metadata": {
    "ExecuteTime": {
     "end_time": "2024-12-29T04:21:13.679157Z",
     "start_time": "2024-12-29T04:21:13.675064Z"
    }
   },
   "cell_type": "code",
   "source": [
    "rdkit = pharm.calc_pharm(mols_noH[0], features='rdkit')\n",
    "rdkit"
   ],
   "id": "cb2912db000752b5",
   "outputs": [
    {
     "data": {
      "text/plain": [
       "[['Donor', (6,), -2.5995394084260526, 2.931207478597561, -0.5905278269049035],\n",
       " ['Donor', (9,), -0.9046174520168839, -2.235699615827842, 0.13645934200480064],\n",
       " ['Donor', (12,), 2.949925200279259, -0.15648413497184244, 1.2254205073233995],\n",
       " ['Acceptor',\n",
       "  (6,),\n",
       "  -2.5995394084260526,\n",
       "  2.931207478597561,\n",
       "  -0.5905278269049035],\n",
       " ['PosIonizable',\n",
       "  (12,),\n",
       "  2.949925200279259,\n",
       "  -0.15648413497184244,\n",
       "  1.2254205073233995],\n",
       " ['Aromatic',\n",
       "  (2, 3, 7, 8, 9),\n",
       "  -0.3842166759759821,\n",
       "  -1.2654866328983938,\n",
       "  -0.2124065266290939],\n",
       " ['Aromatic',\n",
       "  (0, 1, 2, 3, 4, 5),\n",
       "  -1.8583650464904393,\n",
       "  0.2926900071440297,\n",
       "  -0.1871054571985933],\n",
       " ['Hydrophobe',\n",
       "  (3,),\n",
       "  -0.5455923494913747,\n",
       "  -0.12377573959149525,\n",
       "  -0.4269264354726326],\n",
       " ['Hydrophobe',\n",
       "  (7,),\n",
       "  0.6351447927905208,\n",
       "  -0.8202580958435296,\n",
       "  -0.5701932594895972],\n",
       " ['Hydrophobe',\n",
       "  (10,),\n",
       "  1.932085873580742,\n",
       "  -0.2536899744434478,\n",
       "  -1.0263884835574422],\n",
       " ['LumpedHydrophobe',\n",
       "  (0, 1, 2, 3, 4, 5),\n",
       "  -1.8583650464904393,\n",
       "  0.2926900071440297,\n",
       "  -0.1871054571985933]]"
      ]
     },
     "execution_count": 11,
     "metadata": {},
     "output_type": "execute_result"
    }
   ],
   "execution_count": 11
  },
  {
   "metadata": {
    "ExecuteTime": {
     "end_time": "2024-12-29T04:21:13.743040Z",
     "start_time": "2024-12-29T04:21:13.740646Z"
    }
   },
   "cell_type": "code",
   "source": "pharma",
   "id": "b2565b281a166319",
   "outputs": [
    {
     "data": {
      "text/plain": [
       "[['Donor', (9,), -0.9046174520168839, -2.235699615827842, 0.13645934200480064],\n",
       " ['Donor', (12,), 2.949925200279259, -0.15648413497184244, 1.2254205073233995],\n",
       " ['Donor', (6,), -2.5995394084260526, 2.931207478597561, -0.5905278269049035],\n",
       " ['Aromatic',\n",
       "  (0, 1, 2, 3, 4, 5),\n",
       "  -1.8583650464904398,\n",
       "  0.29269000714402976,\n",
       "  -0.18710545719859337],\n",
       " ['Aromatic',\n",
       "  (2, 3, 7, 8, 9),\n",
       "  -0.384216675975982,\n",
       "  -1.2654866328983938,\n",
       "  -0.2124065266290939]]"
      ]
     },
     "execution_count": 12,
     "metadata": {},
     "output_type": "execute_result"
    }
   ],
   "execution_count": 12
  },
  {
   "metadata": {
    "ExecuteTime": {
     "end_time": "2024-12-29T04:21:13.927056Z",
     "start_time": "2024-12-29T04:21:13.782090Z"
    }
   },
   "cell_type": "code",
   "source": [
    "draw = Draw()\n",
    "draw.draw_pharm(mols_noH[0], features='default')"
   ],
   "id": "21e844062336be8b",
   "outputs": [
    {
     "data": {
      "text/plain": [
       "<Figure size 400x400 with 2 Axes>"
      ],
      "image/png": "[encoded data removed]"
     },
     "metadata": {},
     "output_type": "display_data"
    }
   ],
   "execution_count": 13
  },
  {
   "metadata": {
    "ExecuteTime": {
     "end_time": "2024-12-29T04:21:13.933146Z",
     "start_time": "2024-12-29T04:21:13.930765Z"
    }
   },
   "cell_type": "code",
   "source": "pharm.output_features(pharma, 'data/pharma.pml')",
   "id": "a0cef793515d6e43",
   "outputs": [
    {
     "name": "stdout",
     "output_type": "stream",
     "text": [
      "Number of features: 5\n",
      "Feature visualization script written to data/pharma.pml.\n"
     ]
    }
   ],
   "execution_count": 14
  }
 ],
 "metadata": {
  "kernelspec": {
   "name": "python3",
   "language": "python",
   "display_name": "Python 3 (ipykernel)"
  }
 },
 "nbformat": 5,
 "nbformat_minor": 9
}
